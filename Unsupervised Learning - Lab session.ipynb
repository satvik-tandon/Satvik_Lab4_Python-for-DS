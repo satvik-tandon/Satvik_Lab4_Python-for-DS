{
 "cells": [
  {
   "cell_type": "markdown",
   "id": "83f26a29",
   "metadata": {
    "id": "83f26a29"
   },
   "source": [
    "# Unsupervised Lab Session"
   ]
  },
  {
   "cell_type": "markdown",
   "id": "8ea571d1",
   "metadata": {
    "id": "8ea571d1"
   },
   "source": [
    "## Learning outcomes:\n",
    "- Exploratory data analysis and data preparation for model building.\n",
    "- PCA for dimensionality reduction.\n",
    "- K-means and Agglomerative Clustering"
   ]
  },
  {
   "cell_type": "markdown",
   "id": "fd7f778a",
   "metadata": {
    "id": "fd7f778a"
   },
   "source": [
    "## Problem Statement\n",
    "Based on the given marketing campigan dataset, segment the similar customers into suitable clusters. Analyze the clusters and provide your insights to help the organization promote their business."
   ]
  },
  {
   "cell_type": "markdown",
   "id": "33b58f8f",
   "metadata": {
    "id": "33b58f8f"
   },
   "source": [
    "## Context:\n",
    "- Customer Personality Analysis is a detailed analysis of a company’s ideal customers. It helps a business to better understand its customers and makes it easier for them to modify products according to the specific needs, behaviors and concerns of different types of customers.\n",
    "- Customer personality analysis helps a business to modify its product based on its target customers from different types of customer segments. For example, instead of spending money to market a new product to every customer in the company’s database, a company can analyze which customer segment is most likely to buy the product and then market the product only on that particular segment."
   ]
  },
  {
   "cell_type": "markdown",
   "id": "867166aa",
   "metadata": {
    "id": "867166aa"
   },
   "source": [
    "## About dataset\n",
    "- Source: https://www.kaggle.com/datasets/imakash3011/customer-personality-analysis?datasetId=1546318&sortBy=voteCount\n",
    "\n",
    "### Attribute Information:\n",
    "- ID: Customer's unique identifier\n",
    "- Year_Birth: Customer's birth year\n",
    "- Education: Customer's education level\n",
    "- Marital_Status: Customer's marital status\n",
    "- Income: Customer's yearly household income\n",
    "- Kidhome: Number of children in customer's household\n",
    "- Teenhome: Number of teenagers in customer's household\n",
    "- Dt_Customer: Date of customer's enrollment with the company\n",
    "- Recency: Number of days since customer's last purchase\n",
    "- Complain: 1 if the customer complained in the last 2 years, 0 otherwise\n",
    "- MntWines: Amount spent on wine in last 2 years\n",
    "- MntFruits: Amount spent on fruits in last 2 years\n",
    "- MntMeatProducts: Amount spent on meat in last 2 years\n",
    "- MntFishProducts: Amount spent on fish in last 2 years\n",
    "- MntSweetProducts: Amount spent on sweets in last 2 years\n",
    "- MntGoldProds: Amount spent on gold in last 2 years\n",
    "- NumDealsPurchases: Number of purchases made with a discount\n",
    "- AcceptedCmp1: 1 if customer accepted the offer in the 1st campaign, 0 otherwise\n",
    "- AcceptedCmp2: 1 if customer accepted the offer in the 2nd campaign, 0 otherwise\n",
    "- AcceptedCmp3: 1 if customer accepted the offer in the 3rd campaign, 0 otherwise\n",
    "- AcceptedCmp4: 1 if customer accepted the offer in the 4th campaign, 0 otherwise\n",
    "- AcceptedCmp5: 1 if customer accepted the offer in the 5th campaign, 0 otherwise\n",
    "- Response: 1 if customer accepted the offer in the last campaign, 0 otherwise\n",
    "- NumWebPurchases: Number of purchases made through the company’s website\n",
    "- NumCatalogPurchases: Number of purchases made using a catalogue\n",
    "- NumStorePurchases: Number of purchases made directly in stores\n",
    "- NumWebVisitsMonth: Number of visits to company’s website in the last month"
   ]
  },
  {
   "cell_type": "markdown",
   "id": "5a830406",
   "metadata": {
    "id": "5a830406"
   },
   "source": [
    "### 1. Import required libraries"
   ]
  },
  {
   "cell_type": "code",
   "execution_count": 1,
   "id": "d65c5528",
   "metadata": {
    "id": "d65c5528"
   },
   "outputs": [],
   "source": [
    "import pandas as pd\n",
    "import numpy as np\n",
    "import matplotlib.pyplot as plt\n",
    "import seaborn as sns\n",
    "import warnings\n",
    "warnings.filterwarnings('ignore')\n",
    "\n",
    "from sklearn.preprocessing import StandardScaler,LabelEncoder\n",
    "from scipy import stats\n",
    "from sklearn.cluster import KMeans\n",
    "from scipy.stats import zscore\n",
    "from scipy.spatial import distance\n",
    "from scipy.cluster.hierarchy import linkage, dendrogram, fcluster\n",
    "from sklearn.cluster import AgglomerativeClustering\n",
    "from sklearn.decomposition import PCA\n",
    "from sklearn.model_selection import train_test_split\n",
    "from sklearn import preprocessing\n",
    "from sklearn.preprocessing import Normalizer"
   ]
  },
  {
   "cell_type": "markdown",
   "id": "c80eb960",
   "metadata": {
    "id": "c80eb960"
   },
   "source": [
    "### 2. Load the CSV file (i.e marketing.csv) and display the first 5 rows of the dataframe. Check the shape and info of the dataset."
   ]
  },
  {
   "cell_type": "code",
   "execution_count": 2,
   "id": "1caebc10",
   "metadata": {
    "id": "1caebc10"
   },
   "outputs": [
    {
     "data": {
      "text/html": [
       "<div>\n",
       "<style scoped>\n",
       "    .dataframe tbody tr th:only-of-type {\n",
       "        vertical-align: middle;\n",
       "    }\n",
       "\n",
       "    .dataframe tbody tr th {\n",
       "        vertical-align: top;\n",
       "    }\n",
       "\n",
       "    .dataframe thead th {\n",
       "        text-align: right;\n",
       "    }\n",
       "</style>\n",
       "<table border=\"1\" class=\"dataframe\">\n",
       "  <thead>\n",
       "    <tr style=\"text-align: right;\">\n",
       "      <th></th>\n",
       "      <th>ID</th>\n",
       "      <th>Year_Birth</th>\n",
       "      <th>Education</th>\n",
       "      <th>Marital_Status</th>\n",
       "      <th>Income</th>\n",
       "      <th>Kidhome</th>\n",
       "      <th>Teenhome</th>\n",
       "      <th>Dt_Customer</th>\n",
       "      <th>Recency</th>\n",
       "      <th>MntWines</th>\n",
       "      <th>...</th>\n",
       "      <th>NumCatalogPurchases</th>\n",
       "      <th>NumStorePurchases</th>\n",
       "      <th>NumWebVisitsMonth</th>\n",
       "      <th>AcceptedCmp3</th>\n",
       "      <th>AcceptedCmp4</th>\n",
       "      <th>AcceptedCmp5</th>\n",
       "      <th>AcceptedCmp1</th>\n",
       "      <th>AcceptedCmp2</th>\n",
       "      <th>Complain</th>\n",
       "      <th>Response</th>\n",
       "    </tr>\n",
       "  </thead>\n",
       "  <tbody>\n",
       "    <tr>\n",
       "      <th>0</th>\n",
       "      <td>5524</td>\n",
       "      <td>1957</td>\n",
       "      <td>Graduation</td>\n",
       "      <td>Single</td>\n",
       "      <td>58138.0</td>\n",
       "      <td>0</td>\n",
       "      <td>0</td>\n",
       "      <td>4/9/2012</td>\n",
       "      <td>58</td>\n",
       "      <td>635</td>\n",
       "      <td>...</td>\n",
       "      <td>10</td>\n",
       "      <td>4</td>\n",
       "      <td>7</td>\n",
       "      <td>0</td>\n",
       "      <td>0</td>\n",
       "      <td>0</td>\n",
       "      <td>0</td>\n",
       "      <td>0</td>\n",
       "      <td>0</td>\n",
       "      <td>1</td>\n",
       "    </tr>\n",
       "    <tr>\n",
       "      <th>1</th>\n",
       "      <td>2174</td>\n",
       "      <td>1954</td>\n",
       "      <td>Graduation</td>\n",
       "      <td>Single</td>\n",
       "      <td>46344.0</td>\n",
       "      <td>1</td>\n",
       "      <td>1</td>\n",
       "      <td>8/3/2014</td>\n",
       "      <td>38</td>\n",
       "      <td>11</td>\n",
       "      <td>...</td>\n",
       "      <td>1</td>\n",
       "      <td>2</td>\n",
       "      <td>5</td>\n",
       "      <td>0</td>\n",
       "      <td>0</td>\n",
       "      <td>0</td>\n",
       "      <td>0</td>\n",
       "      <td>0</td>\n",
       "      <td>0</td>\n",
       "      <td>0</td>\n",
       "    </tr>\n",
       "    <tr>\n",
       "      <th>2</th>\n",
       "      <td>4141</td>\n",
       "      <td>1965</td>\n",
       "      <td>Graduation</td>\n",
       "      <td>Together</td>\n",
       "      <td>71613.0</td>\n",
       "      <td>0</td>\n",
       "      <td>0</td>\n",
       "      <td>21-08-2013</td>\n",
       "      <td>26</td>\n",
       "      <td>426</td>\n",
       "      <td>...</td>\n",
       "      <td>2</td>\n",
       "      <td>10</td>\n",
       "      <td>4</td>\n",
       "      <td>0</td>\n",
       "      <td>0</td>\n",
       "      <td>0</td>\n",
       "      <td>0</td>\n",
       "      <td>0</td>\n",
       "      <td>0</td>\n",
       "      <td>0</td>\n",
       "    </tr>\n",
       "    <tr>\n",
       "      <th>3</th>\n",
       "      <td>6182</td>\n",
       "      <td>1984</td>\n",
       "      <td>Graduation</td>\n",
       "      <td>Together</td>\n",
       "      <td>26646.0</td>\n",
       "      <td>1</td>\n",
       "      <td>0</td>\n",
       "      <td>10/2/2014</td>\n",
       "      <td>26</td>\n",
       "      <td>11</td>\n",
       "      <td>...</td>\n",
       "      <td>0</td>\n",
       "      <td>4</td>\n",
       "      <td>6</td>\n",
       "      <td>0</td>\n",
       "      <td>0</td>\n",
       "      <td>0</td>\n",
       "      <td>0</td>\n",
       "      <td>0</td>\n",
       "      <td>0</td>\n",
       "      <td>0</td>\n",
       "    </tr>\n",
       "    <tr>\n",
       "      <th>4</th>\n",
       "      <td>5324</td>\n",
       "      <td>1981</td>\n",
       "      <td>PhD</td>\n",
       "      <td>Married</td>\n",
       "      <td>58293.0</td>\n",
       "      <td>1</td>\n",
       "      <td>0</td>\n",
       "      <td>19-01-2014</td>\n",
       "      <td>94</td>\n",
       "      <td>173</td>\n",
       "      <td>...</td>\n",
       "      <td>3</td>\n",
       "      <td>6</td>\n",
       "      <td>5</td>\n",
       "      <td>0</td>\n",
       "      <td>0</td>\n",
       "      <td>0</td>\n",
       "      <td>0</td>\n",
       "      <td>0</td>\n",
       "      <td>0</td>\n",
       "      <td>0</td>\n",
       "    </tr>\n",
       "    <tr>\n",
       "      <th>5</th>\n",
       "      <td>7446</td>\n",
       "      <td>1967</td>\n",
       "      <td>Master</td>\n",
       "      <td>Together</td>\n",
       "      <td>62513.0</td>\n",
       "      <td>0</td>\n",
       "      <td>1</td>\n",
       "      <td>9/9/2013</td>\n",
       "      <td>16</td>\n",
       "      <td>520</td>\n",
       "      <td>...</td>\n",
       "      <td>4</td>\n",
       "      <td>10</td>\n",
       "      <td>6</td>\n",
       "      <td>0</td>\n",
       "      <td>0</td>\n",
       "      <td>0</td>\n",
       "      <td>0</td>\n",
       "      <td>0</td>\n",
       "      <td>0</td>\n",
       "      <td>0</td>\n",
       "    </tr>\n",
       "    <tr>\n",
       "      <th>6</th>\n",
       "      <td>965</td>\n",
       "      <td>1971</td>\n",
       "      <td>Graduation</td>\n",
       "      <td>Divorced</td>\n",
       "      <td>55635.0</td>\n",
       "      <td>0</td>\n",
       "      <td>1</td>\n",
       "      <td>13-11-2012</td>\n",
       "      <td>34</td>\n",
       "      <td>235</td>\n",
       "      <td>...</td>\n",
       "      <td>3</td>\n",
       "      <td>7</td>\n",
       "      <td>6</td>\n",
       "      <td>0</td>\n",
       "      <td>0</td>\n",
       "      <td>0</td>\n",
       "      <td>0</td>\n",
       "      <td>0</td>\n",
       "      <td>0</td>\n",
       "      <td>0</td>\n",
       "    </tr>\n",
       "    <tr>\n",
       "      <th>7</th>\n",
       "      <td>6177</td>\n",
       "      <td>1985</td>\n",
       "      <td>PhD</td>\n",
       "      <td>Married</td>\n",
       "      <td>33454.0</td>\n",
       "      <td>1</td>\n",
       "      <td>0</td>\n",
       "      <td>8/5/2013</td>\n",
       "      <td>32</td>\n",
       "      <td>76</td>\n",
       "      <td>...</td>\n",
       "      <td>0</td>\n",
       "      <td>4</td>\n",
       "      <td>8</td>\n",
       "      <td>0</td>\n",
       "      <td>0</td>\n",
       "      <td>0</td>\n",
       "      <td>0</td>\n",
       "      <td>0</td>\n",
       "      <td>0</td>\n",
       "      <td>0</td>\n",
       "    </tr>\n",
       "    <tr>\n",
       "      <th>8</th>\n",
       "      <td>4855</td>\n",
       "      <td>1974</td>\n",
       "      <td>PhD</td>\n",
       "      <td>Together</td>\n",
       "      <td>30351.0</td>\n",
       "      <td>1</td>\n",
       "      <td>0</td>\n",
       "      <td>6/6/2013</td>\n",
       "      <td>19</td>\n",
       "      <td>14</td>\n",
       "      <td>...</td>\n",
       "      <td>0</td>\n",
       "      <td>2</td>\n",
       "      <td>9</td>\n",
       "      <td>0</td>\n",
       "      <td>0</td>\n",
       "      <td>0</td>\n",
       "      <td>0</td>\n",
       "      <td>0</td>\n",
       "      <td>0</td>\n",
       "      <td>1</td>\n",
       "    </tr>\n",
       "    <tr>\n",
       "      <th>9</th>\n",
       "      <td>5899</td>\n",
       "      <td>1950</td>\n",
       "      <td>PhD</td>\n",
       "      <td>Together</td>\n",
       "      <td>5648.0</td>\n",
       "      <td>1</td>\n",
       "      <td>1</td>\n",
       "      <td>13-03-2014</td>\n",
       "      <td>68</td>\n",
       "      <td>28</td>\n",
       "      <td>...</td>\n",
       "      <td>0</td>\n",
       "      <td>0</td>\n",
       "      <td>20</td>\n",
       "      <td>1</td>\n",
       "      <td>0</td>\n",
       "      <td>0</td>\n",
       "      <td>0</td>\n",
       "      <td>0</td>\n",
       "      <td>0</td>\n",
       "      <td>0</td>\n",
       "    </tr>\n",
       "  </tbody>\n",
       "</table>\n",
       "<p>10 rows × 27 columns</p>\n",
       "</div>"
      ],
      "text/plain": [
       "     ID  Year_Birth   Education Marital_Status   Income  Kidhome  Teenhome  \\\n",
       "0  5524        1957  Graduation         Single  58138.0        0         0   \n",
       "1  2174        1954  Graduation         Single  46344.0        1         1   \n",
       "2  4141        1965  Graduation       Together  71613.0        0         0   \n",
       "3  6182        1984  Graduation       Together  26646.0        1         0   \n",
       "4  5324        1981         PhD        Married  58293.0        1         0   \n",
       "5  7446        1967      Master       Together  62513.0        0         1   \n",
       "6   965        1971  Graduation       Divorced  55635.0        0         1   \n",
       "7  6177        1985         PhD        Married  33454.0        1         0   \n",
       "8  4855        1974         PhD       Together  30351.0        1         0   \n",
       "9  5899        1950         PhD       Together   5648.0        1         1   \n",
       "\n",
       "  Dt_Customer  Recency  MntWines  ...  NumCatalogPurchases  NumStorePurchases  \\\n",
       "0    4/9/2012       58       635  ...                   10                  4   \n",
       "1    8/3/2014       38        11  ...                    1                  2   \n",
       "2  21-08-2013       26       426  ...                    2                 10   \n",
       "3   10/2/2014       26        11  ...                    0                  4   \n",
       "4  19-01-2014       94       173  ...                    3                  6   \n",
       "5    9/9/2013       16       520  ...                    4                 10   \n",
       "6  13-11-2012       34       235  ...                    3                  7   \n",
       "7    8/5/2013       32        76  ...                    0                  4   \n",
       "8    6/6/2013       19        14  ...                    0                  2   \n",
       "9  13-03-2014       68        28  ...                    0                  0   \n",
       "\n",
       "   NumWebVisitsMonth  AcceptedCmp3  AcceptedCmp4  AcceptedCmp5  AcceptedCmp1  \\\n",
       "0                  7             0             0             0             0   \n",
       "1                  5             0             0             0             0   \n",
       "2                  4             0             0             0             0   \n",
       "3                  6             0             0             0             0   \n",
       "4                  5             0             0             0             0   \n",
       "5                  6             0             0             0             0   \n",
       "6                  6             0             0             0             0   \n",
       "7                  8             0             0             0             0   \n",
       "8                  9             0             0             0             0   \n",
       "9                 20             1             0             0             0   \n",
       "\n",
       "   AcceptedCmp2  Complain  Response  \n",
       "0             0         0         1  \n",
       "1             0         0         0  \n",
       "2             0         0         0  \n",
       "3             0         0         0  \n",
       "4             0         0         0  \n",
       "5             0         0         0  \n",
       "6             0         0         0  \n",
       "7             0         0         0  \n",
       "8             0         0         1  \n",
       "9             0         0         0  \n",
       "\n",
       "[10 rows x 27 columns]"
      ]
     },
     "execution_count": 2,
     "metadata": {},
     "output_type": "execute_result"
    }
   ],
   "source": [
    "df = pd.read_csv('marketing.csv')\n",
    "df.head(10)"
   ]
  },
  {
   "cell_type": "code",
   "execution_count": 3,
   "id": "6a9845d5",
   "metadata": {},
   "outputs": [
    {
     "data": {
      "text/plain": [
       "(2240, 27)"
      ]
     },
     "execution_count": 3,
     "metadata": {},
     "output_type": "execute_result"
    }
   ],
   "source": [
    "df.shape"
   ]
  },
  {
   "cell_type": "code",
   "execution_count": 4,
   "id": "b3d4c9d1",
   "metadata": {},
   "outputs": [
    {
     "name": "stdout",
     "output_type": "stream",
     "text": [
      "<class 'pandas.core.frame.DataFrame'>\n",
      "RangeIndex: 2240 entries, 0 to 2239\n",
      "Data columns (total 27 columns):\n",
      " #   Column               Non-Null Count  Dtype  \n",
      "---  ------               --------------  -----  \n",
      " 0   ID                   2240 non-null   int64  \n",
      " 1   Year_Birth           2240 non-null   int64  \n",
      " 2   Education            2240 non-null   object \n",
      " 3   Marital_Status       2240 non-null   object \n",
      " 4   Income               2216 non-null   float64\n",
      " 5   Kidhome              2240 non-null   int64  \n",
      " 6   Teenhome             2240 non-null   int64  \n",
      " 7   Dt_Customer          2240 non-null   object \n",
      " 8   Recency              2240 non-null   int64  \n",
      " 9   MntWines             2240 non-null   int64  \n",
      " 10  MntFruits            2240 non-null   int64  \n",
      " 11  MntMeatProducts      2240 non-null   int64  \n",
      " 12  MntFishProducts      2240 non-null   int64  \n",
      " 13  MntSweetProducts     2240 non-null   int64  \n",
      " 14  MntGoldProds         2240 non-null   int64  \n",
      " 15  NumDealsPurchases    2240 non-null   int64  \n",
      " 16  NumWebPurchases      2240 non-null   int64  \n",
      " 17  NumCatalogPurchases  2240 non-null   int64  \n",
      " 18  NumStorePurchases    2240 non-null   int64  \n",
      " 19  NumWebVisitsMonth    2240 non-null   int64  \n",
      " 20  AcceptedCmp3         2240 non-null   int64  \n",
      " 21  AcceptedCmp4         2240 non-null   int64  \n",
      " 22  AcceptedCmp5         2240 non-null   int64  \n",
      " 23  AcceptedCmp1         2240 non-null   int64  \n",
      " 24  AcceptedCmp2         2240 non-null   int64  \n",
      " 25  Complain             2240 non-null   int64  \n",
      " 26  Response             2240 non-null   int64  \n",
      "dtypes: float64(1), int64(23), object(3)\n",
      "memory usage: 472.6+ KB\n"
     ]
    }
   ],
   "source": [
    "## Checking the shape and info\n",
    "df.info()"
   ]
  },
  {
   "cell_type": "markdown",
   "id": "9ef75724",
   "metadata": {
    "id": "9ef75724"
   },
   "source": [
    "### 3. Check the percentage of missing values? If there is presence of missing values, treat them accordingly."
   ]
  },
  {
   "cell_type": "code",
   "execution_count": 5,
   "id": "f2c231df",
   "metadata": {
    "id": "f2c231df"
   },
   "outputs": [
    {
     "data": {
      "text/plain": [
       "ID                     0.000000\n",
       "Year_Birth             0.000000\n",
       "Education              0.000000\n",
       "Marital_Status         0.000000\n",
       "Income                 1.071429\n",
       "Kidhome                0.000000\n",
       "Teenhome               0.000000\n",
       "Dt_Customer            0.000000\n",
       "Recency                0.000000\n",
       "MntWines               0.000000\n",
       "MntFruits              0.000000\n",
       "MntMeatProducts        0.000000\n",
       "MntFishProducts        0.000000\n",
       "MntSweetProducts       0.000000\n",
       "MntGoldProds           0.000000\n",
       "NumDealsPurchases      0.000000\n",
       "NumWebPurchases        0.000000\n",
       "NumCatalogPurchases    0.000000\n",
       "NumStorePurchases      0.000000\n",
       "NumWebVisitsMonth      0.000000\n",
       "AcceptedCmp3           0.000000\n",
       "AcceptedCmp4           0.000000\n",
       "AcceptedCmp5           0.000000\n",
       "AcceptedCmp1           0.000000\n",
       "AcceptedCmp2           0.000000\n",
       "Complain               0.000000\n",
       "Response               0.000000\n",
       "dtype: float64"
      ]
     },
     "execution_count": 5,
     "metadata": {},
     "output_type": "execute_result"
    }
   ],
   "source": [
    "df.isnull().sum()/len(df)*100"
   ]
  },
  {
   "cell_type": "code",
   "execution_count": 6,
   "id": "98e2878f",
   "metadata": {},
   "outputs": [],
   "source": [
    "df['Income'] = df['Income'].fillna(df['Income'].mean())"
   ]
  },
  {
   "cell_type": "code",
   "execution_count": 7,
   "id": "90617bf9",
   "metadata": {},
   "outputs": [
    {
     "data": {
      "text/plain": [
       "ID                     0.0\n",
       "Year_Birth             0.0\n",
       "Education              0.0\n",
       "Marital_Status         0.0\n",
       "Income                 0.0\n",
       "Kidhome                0.0\n",
       "Teenhome               0.0\n",
       "Dt_Customer            0.0\n",
       "Recency                0.0\n",
       "MntWines               0.0\n",
       "MntFruits              0.0\n",
       "MntMeatProducts        0.0\n",
       "MntFishProducts        0.0\n",
       "MntSweetProducts       0.0\n",
       "MntGoldProds           0.0\n",
       "NumDealsPurchases      0.0\n",
       "NumWebPurchases        0.0\n",
       "NumCatalogPurchases    0.0\n",
       "NumStorePurchases      0.0\n",
       "NumWebVisitsMonth      0.0\n",
       "AcceptedCmp3           0.0\n",
       "AcceptedCmp4           0.0\n",
       "AcceptedCmp5           0.0\n",
       "AcceptedCmp1           0.0\n",
       "AcceptedCmp2           0.0\n",
       "Complain               0.0\n",
       "Response               0.0\n",
       "dtype: float64"
      ]
     },
     "execution_count": 7,
     "metadata": {},
     "output_type": "execute_result"
    }
   ],
   "source": [
    "df.isnull().sum()/len(df)*100"
   ]
  },
  {
   "cell_type": "markdown",
   "id": "86f3709e",
   "metadata": {
    "id": "86f3709e"
   },
   "source": [
    "### 4. Check if there are any duplicate records in the dataset? If any drop them."
   ]
  },
  {
   "cell_type": "code",
   "execution_count": 8,
   "id": "2970671a",
   "metadata": {
    "id": "2970671a"
   },
   "outputs": [
    {
     "data": {
      "text/html": [
       "<div>\n",
       "<style scoped>\n",
       "    .dataframe tbody tr th:only-of-type {\n",
       "        vertical-align: middle;\n",
       "    }\n",
       "\n",
       "    .dataframe tbody tr th {\n",
       "        vertical-align: top;\n",
       "    }\n",
       "\n",
       "    .dataframe thead th {\n",
       "        text-align: right;\n",
       "    }\n",
       "</style>\n",
       "<table border=\"1\" class=\"dataframe\">\n",
       "  <thead>\n",
       "    <tr style=\"text-align: right;\">\n",
       "      <th></th>\n",
       "      <th>ID</th>\n",
       "      <th>Year_Birth</th>\n",
       "      <th>Education</th>\n",
       "      <th>Marital_Status</th>\n",
       "      <th>Income</th>\n",
       "      <th>Kidhome</th>\n",
       "      <th>Teenhome</th>\n",
       "      <th>Dt_Customer</th>\n",
       "      <th>Recency</th>\n",
       "      <th>MntWines</th>\n",
       "      <th>...</th>\n",
       "      <th>NumCatalogPurchases</th>\n",
       "      <th>NumStorePurchases</th>\n",
       "      <th>NumWebVisitsMonth</th>\n",
       "      <th>AcceptedCmp3</th>\n",
       "      <th>AcceptedCmp4</th>\n",
       "      <th>AcceptedCmp5</th>\n",
       "      <th>AcceptedCmp1</th>\n",
       "      <th>AcceptedCmp2</th>\n",
       "      <th>Complain</th>\n",
       "      <th>Response</th>\n",
       "    </tr>\n",
       "  </thead>\n",
       "  <tbody>\n",
       "  </tbody>\n",
       "</table>\n",
       "<p>0 rows × 27 columns</p>\n",
       "</div>"
      ],
      "text/plain": [
       "Empty DataFrame\n",
       "Columns: [ID, Year_Birth, Education, Marital_Status, Income, Kidhome, Teenhome, Dt_Customer, Recency, MntWines, MntFruits, MntMeatProducts, MntFishProducts, MntSweetProducts, MntGoldProds, NumDealsPurchases, NumWebPurchases, NumCatalogPurchases, NumStorePurchases, NumWebVisitsMonth, AcceptedCmp3, AcceptedCmp4, AcceptedCmp5, AcceptedCmp1, AcceptedCmp2, Complain, Response]\n",
       "Index: []\n",
       "\n",
       "[0 rows x 27 columns]"
      ]
     },
     "execution_count": 8,
     "metadata": {},
     "output_type": "execute_result"
    }
   ],
   "source": [
    "(df[df.duplicated()])"
   ]
  },
  {
   "cell_type": "markdown",
   "id": "3a6f2b5a",
   "metadata": {
    "id": "3a6f2b5a"
   },
   "source": [
    "### 5. Drop the columns which you think redundant for the analysis "
   ]
  },
  {
   "cell_type": "code",
   "execution_count": 9,
   "id": "a9ca818b",
   "metadata": {
    "id": "a9ca818b"
   },
   "outputs": [
    {
     "data": {
      "text/html": [
       "<div>\n",
       "<style scoped>\n",
       "    .dataframe tbody tr th:only-of-type {\n",
       "        vertical-align: middle;\n",
       "    }\n",
       "\n",
       "    .dataframe tbody tr th {\n",
       "        vertical-align: top;\n",
       "    }\n",
       "\n",
       "    .dataframe thead th {\n",
       "        text-align: right;\n",
       "    }\n",
       "</style>\n",
       "<table border=\"1\" class=\"dataframe\">\n",
       "  <thead>\n",
       "    <tr style=\"text-align: right;\">\n",
       "      <th></th>\n",
       "      <th>ID</th>\n",
       "      <th>Year_Birth</th>\n",
       "      <th>Income</th>\n",
       "      <th>Kidhome</th>\n",
       "      <th>Teenhome</th>\n",
       "      <th>Recency</th>\n",
       "      <th>MntWines</th>\n",
       "      <th>MntFruits</th>\n",
       "      <th>MntMeatProducts</th>\n",
       "      <th>MntFishProducts</th>\n",
       "      <th>...</th>\n",
       "      <th>NumCatalogPurchases</th>\n",
       "      <th>NumStorePurchases</th>\n",
       "      <th>NumWebVisitsMonth</th>\n",
       "      <th>AcceptedCmp3</th>\n",
       "      <th>AcceptedCmp4</th>\n",
       "      <th>AcceptedCmp5</th>\n",
       "      <th>AcceptedCmp1</th>\n",
       "      <th>AcceptedCmp2</th>\n",
       "      <th>Complain</th>\n",
       "      <th>Response</th>\n",
       "    </tr>\n",
       "  </thead>\n",
       "  <tbody>\n",
       "    <tr>\n",
       "      <th>count</th>\n",
       "      <td>2240.000000</td>\n",
       "      <td>2240.000000</td>\n",
       "      <td>2240.000000</td>\n",
       "      <td>2240.000000</td>\n",
       "      <td>2240.000000</td>\n",
       "      <td>2240.000000</td>\n",
       "      <td>2240.000000</td>\n",
       "      <td>2240.000000</td>\n",
       "      <td>2240.000000</td>\n",
       "      <td>2240.000000</td>\n",
       "      <td>...</td>\n",
       "      <td>2240.000000</td>\n",
       "      <td>2240.000000</td>\n",
       "      <td>2240.000000</td>\n",
       "      <td>2240.000000</td>\n",
       "      <td>2240.000000</td>\n",
       "      <td>2240.000000</td>\n",
       "      <td>2240.000000</td>\n",
       "      <td>2240.000000</td>\n",
       "      <td>2240.000000</td>\n",
       "      <td>2240.000000</td>\n",
       "    </tr>\n",
       "    <tr>\n",
       "      <th>mean</th>\n",
       "      <td>5592.159821</td>\n",
       "      <td>1968.805804</td>\n",
       "      <td>52247.251354</td>\n",
       "      <td>0.444196</td>\n",
       "      <td>0.506250</td>\n",
       "      <td>49.109375</td>\n",
       "      <td>303.935714</td>\n",
       "      <td>26.302232</td>\n",
       "      <td>166.950000</td>\n",
       "      <td>37.525446</td>\n",
       "      <td>...</td>\n",
       "      <td>2.662054</td>\n",
       "      <td>5.790179</td>\n",
       "      <td>5.316518</td>\n",
       "      <td>0.072768</td>\n",
       "      <td>0.074554</td>\n",
       "      <td>0.072768</td>\n",
       "      <td>0.064286</td>\n",
       "      <td>0.013393</td>\n",
       "      <td>0.009375</td>\n",
       "      <td>0.149107</td>\n",
       "    </tr>\n",
       "    <tr>\n",
       "      <th>std</th>\n",
       "      <td>3246.662198</td>\n",
       "      <td>11.984069</td>\n",
       "      <td>25037.797168</td>\n",
       "      <td>0.538398</td>\n",
       "      <td>0.544538</td>\n",
       "      <td>28.962453</td>\n",
       "      <td>336.597393</td>\n",
       "      <td>39.773434</td>\n",
       "      <td>225.715373</td>\n",
       "      <td>54.628979</td>\n",
       "      <td>...</td>\n",
       "      <td>2.923101</td>\n",
       "      <td>3.250958</td>\n",
       "      <td>2.426645</td>\n",
       "      <td>0.259813</td>\n",
       "      <td>0.262728</td>\n",
       "      <td>0.259813</td>\n",
       "      <td>0.245316</td>\n",
       "      <td>0.114976</td>\n",
       "      <td>0.096391</td>\n",
       "      <td>0.356274</td>\n",
       "    </tr>\n",
       "    <tr>\n",
       "      <th>min</th>\n",
       "      <td>0.000000</td>\n",
       "      <td>1893.000000</td>\n",
       "      <td>1730.000000</td>\n",
       "      <td>0.000000</td>\n",
       "      <td>0.000000</td>\n",
       "      <td>0.000000</td>\n",
       "      <td>0.000000</td>\n",
       "      <td>0.000000</td>\n",
       "      <td>0.000000</td>\n",
       "      <td>0.000000</td>\n",
       "      <td>...</td>\n",
       "      <td>0.000000</td>\n",
       "      <td>0.000000</td>\n",
       "      <td>0.000000</td>\n",
       "      <td>0.000000</td>\n",
       "      <td>0.000000</td>\n",
       "      <td>0.000000</td>\n",
       "      <td>0.000000</td>\n",
       "      <td>0.000000</td>\n",
       "      <td>0.000000</td>\n",
       "      <td>0.000000</td>\n",
       "    </tr>\n",
       "    <tr>\n",
       "      <th>25%</th>\n",
       "      <td>2828.250000</td>\n",
       "      <td>1959.000000</td>\n",
       "      <td>35538.750000</td>\n",
       "      <td>0.000000</td>\n",
       "      <td>0.000000</td>\n",
       "      <td>24.000000</td>\n",
       "      <td>23.750000</td>\n",
       "      <td>1.000000</td>\n",
       "      <td>16.000000</td>\n",
       "      <td>3.000000</td>\n",
       "      <td>...</td>\n",
       "      <td>0.000000</td>\n",
       "      <td>3.000000</td>\n",
       "      <td>3.000000</td>\n",
       "      <td>0.000000</td>\n",
       "      <td>0.000000</td>\n",
       "      <td>0.000000</td>\n",
       "      <td>0.000000</td>\n",
       "      <td>0.000000</td>\n",
       "      <td>0.000000</td>\n",
       "      <td>0.000000</td>\n",
       "    </tr>\n",
       "    <tr>\n",
       "      <th>50%</th>\n",
       "      <td>5458.500000</td>\n",
       "      <td>1970.000000</td>\n",
       "      <td>51741.500000</td>\n",
       "      <td>0.000000</td>\n",
       "      <td>0.000000</td>\n",
       "      <td>49.000000</td>\n",
       "      <td>173.500000</td>\n",
       "      <td>8.000000</td>\n",
       "      <td>67.000000</td>\n",
       "      <td>12.000000</td>\n",
       "      <td>...</td>\n",
       "      <td>2.000000</td>\n",
       "      <td>5.000000</td>\n",
       "      <td>6.000000</td>\n",
       "      <td>0.000000</td>\n",
       "      <td>0.000000</td>\n",
       "      <td>0.000000</td>\n",
       "      <td>0.000000</td>\n",
       "      <td>0.000000</td>\n",
       "      <td>0.000000</td>\n",
       "      <td>0.000000</td>\n",
       "    </tr>\n",
       "    <tr>\n",
       "      <th>75%</th>\n",
       "      <td>8427.750000</td>\n",
       "      <td>1977.000000</td>\n",
       "      <td>68289.750000</td>\n",
       "      <td>1.000000</td>\n",
       "      <td>1.000000</td>\n",
       "      <td>74.000000</td>\n",
       "      <td>504.250000</td>\n",
       "      <td>33.000000</td>\n",
       "      <td>232.000000</td>\n",
       "      <td>50.000000</td>\n",
       "      <td>...</td>\n",
       "      <td>4.000000</td>\n",
       "      <td>8.000000</td>\n",
       "      <td>7.000000</td>\n",
       "      <td>0.000000</td>\n",
       "      <td>0.000000</td>\n",
       "      <td>0.000000</td>\n",
       "      <td>0.000000</td>\n",
       "      <td>0.000000</td>\n",
       "      <td>0.000000</td>\n",
       "      <td>0.000000</td>\n",
       "    </tr>\n",
       "    <tr>\n",
       "      <th>max</th>\n",
       "      <td>11191.000000</td>\n",
       "      <td>1996.000000</td>\n",
       "      <td>666666.000000</td>\n",
       "      <td>2.000000</td>\n",
       "      <td>2.000000</td>\n",
       "      <td>99.000000</td>\n",
       "      <td>1493.000000</td>\n",
       "      <td>199.000000</td>\n",
       "      <td>1725.000000</td>\n",
       "      <td>259.000000</td>\n",
       "      <td>...</td>\n",
       "      <td>28.000000</td>\n",
       "      <td>13.000000</td>\n",
       "      <td>20.000000</td>\n",
       "      <td>1.000000</td>\n",
       "      <td>1.000000</td>\n",
       "      <td>1.000000</td>\n",
       "      <td>1.000000</td>\n",
       "      <td>1.000000</td>\n",
       "      <td>1.000000</td>\n",
       "      <td>1.000000</td>\n",
       "    </tr>\n",
       "  </tbody>\n",
       "</table>\n",
       "<p>8 rows × 24 columns</p>\n",
       "</div>"
      ],
      "text/plain": [
       "                 ID   Year_Birth         Income      Kidhome     Teenhome  \\\n",
       "count   2240.000000  2240.000000    2240.000000  2240.000000  2240.000000   \n",
       "mean    5592.159821  1968.805804   52247.251354     0.444196     0.506250   \n",
       "std     3246.662198    11.984069   25037.797168     0.538398     0.544538   \n",
       "min        0.000000  1893.000000    1730.000000     0.000000     0.000000   \n",
       "25%     2828.250000  1959.000000   35538.750000     0.000000     0.000000   \n",
       "50%     5458.500000  1970.000000   51741.500000     0.000000     0.000000   \n",
       "75%     8427.750000  1977.000000   68289.750000     1.000000     1.000000   \n",
       "max    11191.000000  1996.000000  666666.000000     2.000000     2.000000   \n",
       "\n",
       "           Recency     MntWines    MntFruits  MntMeatProducts  \\\n",
       "count  2240.000000  2240.000000  2240.000000      2240.000000   \n",
       "mean     49.109375   303.935714    26.302232       166.950000   \n",
       "std      28.962453   336.597393    39.773434       225.715373   \n",
       "min       0.000000     0.000000     0.000000         0.000000   \n",
       "25%      24.000000    23.750000     1.000000        16.000000   \n",
       "50%      49.000000   173.500000     8.000000        67.000000   \n",
       "75%      74.000000   504.250000    33.000000       232.000000   \n",
       "max      99.000000  1493.000000   199.000000      1725.000000   \n",
       "\n",
       "       MntFishProducts  ...  NumCatalogPurchases  NumStorePurchases  \\\n",
       "count      2240.000000  ...          2240.000000        2240.000000   \n",
       "mean         37.525446  ...             2.662054           5.790179   \n",
       "std          54.628979  ...             2.923101           3.250958   \n",
       "min           0.000000  ...             0.000000           0.000000   \n",
       "25%           3.000000  ...             0.000000           3.000000   \n",
       "50%          12.000000  ...             2.000000           5.000000   \n",
       "75%          50.000000  ...             4.000000           8.000000   \n",
       "max         259.000000  ...            28.000000          13.000000   \n",
       "\n",
       "       NumWebVisitsMonth  AcceptedCmp3  AcceptedCmp4  AcceptedCmp5  \\\n",
       "count        2240.000000   2240.000000   2240.000000   2240.000000   \n",
       "mean            5.316518      0.072768      0.074554      0.072768   \n",
       "std             2.426645      0.259813      0.262728      0.259813   \n",
       "min             0.000000      0.000000      0.000000      0.000000   \n",
       "25%             3.000000      0.000000      0.000000      0.000000   \n",
       "50%             6.000000      0.000000      0.000000      0.000000   \n",
       "75%             7.000000      0.000000      0.000000      0.000000   \n",
       "max            20.000000      1.000000      1.000000      1.000000   \n",
       "\n",
       "       AcceptedCmp1  AcceptedCmp2     Complain     Response  \n",
       "count   2240.000000   2240.000000  2240.000000  2240.000000  \n",
       "mean       0.064286      0.013393     0.009375     0.149107  \n",
       "std        0.245316      0.114976     0.096391     0.356274  \n",
       "min        0.000000      0.000000     0.000000     0.000000  \n",
       "25%        0.000000      0.000000     0.000000     0.000000  \n",
       "50%        0.000000      0.000000     0.000000     0.000000  \n",
       "75%        0.000000      0.000000     0.000000     0.000000  \n",
       "max        1.000000      1.000000     1.000000     1.000000  \n",
       "\n",
       "[8 rows x 24 columns]"
      ]
     },
     "execution_count": 9,
     "metadata": {},
     "output_type": "execute_result"
    }
   ],
   "source": [
    "df.describe()"
   ]
  },
  {
   "cell_type": "code",
   "execution_count": 10,
   "id": "eb2efabb",
   "metadata": {},
   "outputs": [],
   "source": [
    "df=df.drop(columns=['ID','Dt_Customer'],axis=1)"
   ]
  },
  {
   "cell_type": "code",
   "execution_count": 11,
   "id": "7cbd5d40",
   "metadata": {},
   "outputs": [
    {
     "name": "stdout",
     "output_type": "stream",
     "text": [
      "<class 'pandas.core.frame.DataFrame'>\n",
      "RangeIndex: 2240 entries, 0 to 2239\n",
      "Data columns (total 25 columns):\n",
      " #   Column               Non-Null Count  Dtype  \n",
      "---  ------               --------------  -----  \n",
      " 0   Year_Birth           2240 non-null   int64  \n",
      " 1   Education            2240 non-null   object \n",
      " 2   Marital_Status       2240 non-null   object \n",
      " 3   Income               2240 non-null   float64\n",
      " 4   Kidhome              2240 non-null   int64  \n",
      " 5   Teenhome             2240 non-null   int64  \n",
      " 6   Recency              2240 non-null   int64  \n",
      " 7   MntWines             2240 non-null   int64  \n",
      " 8   MntFruits            2240 non-null   int64  \n",
      " 9   MntMeatProducts      2240 non-null   int64  \n",
      " 10  MntFishProducts      2240 non-null   int64  \n",
      " 11  MntSweetProducts     2240 non-null   int64  \n",
      " 12  MntGoldProds         2240 non-null   int64  \n",
      " 13  NumDealsPurchases    2240 non-null   int64  \n",
      " 14  NumWebPurchases      2240 non-null   int64  \n",
      " 15  NumCatalogPurchases  2240 non-null   int64  \n",
      " 16  NumStorePurchases    2240 non-null   int64  \n",
      " 17  NumWebVisitsMonth    2240 non-null   int64  \n",
      " 18  AcceptedCmp3         2240 non-null   int64  \n",
      " 19  AcceptedCmp4         2240 non-null   int64  \n",
      " 20  AcceptedCmp5         2240 non-null   int64  \n",
      " 21  AcceptedCmp1         2240 non-null   int64  \n",
      " 22  AcceptedCmp2         2240 non-null   int64  \n",
      " 23  Complain             2240 non-null   int64  \n",
      " 24  Response             2240 non-null   int64  \n",
      "dtypes: float64(1), int64(22), object(2)\n",
      "memory usage: 437.6+ KB\n"
     ]
    }
   ],
   "source": [
    "## Checking the shape and info\n",
    "df.info()"
   ]
  },
  {
   "cell_type": "markdown",
   "id": "4ff0a112",
   "metadata": {
    "id": "4ff0a112"
   },
   "source": [
    "### 6. Check the unique categories in the column 'Marital_Status'\n",
    "- i) Group categories 'Married', 'Together' as 'relationship'\n",
    "- ii) Group categories 'Divorced', 'Widow', 'Alone', 'YOLO', and 'Absurd' as 'Single'."
   ]
  },
  {
   "cell_type": "code",
   "execution_count": 12,
   "id": "eb1be519",
   "metadata": {
    "id": "eb1be519"
   },
   "outputs": [
    {
     "data": {
      "text/plain": [
       "array(['Single', 'Together', 'Married', 'Divorced', 'Widow', 'Alone',\n",
       "       'Absurd', 'YOLO'], dtype=object)"
      ]
     },
     "execution_count": 12,
     "metadata": {},
     "output_type": "execute_result"
    }
   ],
   "source": [
    "df['Marital_Status'].unique()"
   ]
  },
  {
   "cell_type": "code",
   "execution_count": 13,
   "id": "8aa53073",
   "metadata": {},
   "outputs": [],
   "source": [
    "df['Marital_Status']=df['Marital_Status'].replace(['Married','Together'],'Relationship')"
   ]
  },
  {
   "cell_type": "code",
   "execution_count": 14,
   "id": "4d166342",
   "metadata": {},
   "outputs": [
    {
     "data": {
      "text/plain": [
       "array(['Single', 'Relationship', 'Divorced', 'Widow', 'Alone', 'Absurd',\n",
       "       'YOLO'], dtype=object)"
      ]
     },
     "execution_count": 14,
     "metadata": {},
     "output_type": "execute_result"
    }
   ],
   "source": [
    "df['Marital_Status'].unique()"
   ]
  },
  {
   "cell_type": "code",
   "execution_count": 15,
   "id": "dfc0ef27",
   "metadata": {},
   "outputs": [],
   "source": [
    "df['Marital_Status']=df['Marital_Status'].replace(['Divorced','Widow','Alone','YOLO','Absurd'],'Relationship')"
   ]
  },
  {
   "cell_type": "code",
   "execution_count": 16,
   "id": "c89b1f5a",
   "metadata": {},
   "outputs": [
    {
     "data": {
      "text/plain": [
       "array(['Single', 'Relationship'], dtype=object)"
      ]
     },
     "execution_count": 16,
     "metadata": {},
     "output_type": "execute_result"
    }
   ],
   "source": [
    "df['Marital_Status'].unique()"
   ]
  },
  {
   "cell_type": "code",
   "execution_count": 17,
   "id": "e2797cff",
   "metadata": {},
   "outputs": [
    {
     "data": {
      "text/plain": [
       "Relationship    1760\n",
       "Single           480\n",
       "Name: Marital_Status, dtype: int64"
      ]
     },
     "execution_count": 17,
     "metadata": {},
     "output_type": "execute_result"
    }
   ],
   "source": [
    "df['Marital_Status'].value_counts()"
   ]
  },
  {
   "cell_type": "markdown",
   "id": "9566bfbe",
   "metadata": {
    "id": "9566bfbe"
   },
   "source": [
    "### 7. Group the columns 'MntWines', 'MntFruits', 'MntMeatProducts', 'MntFishProducts', 'MntSweetProducts', and 'MntGoldProds' as 'Total_Expenses'"
   ]
  },
  {
   "cell_type": "code",
   "execution_count": 18,
   "id": "3c3fa800",
   "metadata": {
    "id": "3c3fa800"
   },
   "outputs": [],
   "source": [
    "df['Total_Expenses']=df['MntWines']+df['MntFruits']+df['MntMeatProducts']+df['MntFishProducts']+df['MntSweetProducts']+df['MntGoldProds']"
   ]
  },
  {
   "cell_type": "code",
   "execution_count": 19,
   "id": "b7573cde",
   "metadata": {},
   "outputs": [
    {
     "data": {
      "text/plain": [
       "0       1617\n",
       "1         27\n",
       "2        776\n",
       "3         53\n",
       "4        422\n",
       "        ... \n",
       "2235    1341\n",
       "2236     444\n",
       "2237    1241\n",
       "2238     843\n",
       "2239     172\n",
       "Name: Total_Expenses, Length: 2240, dtype: int64"
      ]
     },
     "execution_count": 19,
     "metadata": {},
     "output_type": "execute_result"
    }
   ],
   "source": [
    "df['Total_Expenses']"
   ]
  },
  {
   "cell_type": "markdown",
   "id": "bf0cd083",
   "metadata": {
    "id": "bf0cd083"
   },
   "source": [
    "### 8. Group the columns 'NumWebPurchases', 'NumCatalogPurchases', 'NumStorePurchases', and 'NumDealsPurchases' as 'Num_Total_Purchases'"
   ]
  },
  {
   "cell_type": "code",
   "execution_count": 20,
   "id": "9c535ede",
   "metadata": {
    "id": "9c535ede"
   },
   "outputs": [],
   "source": [
    "df['Num_Total_Purchases']=df['NumWebPurchases']+df['NumCatalogPurchases']+df['NumStorePurchases']+df['NumDealsPurchases']"
   ]
  },
  {
   "cell_type": "code",
   "execution_count": 21,
   "id": "c6a6a6a1",
   "metadata": {},
   "outputs": [
    {
     "data": {
      "text/plain": [
       "0       25\n",
       "1        6\n",
       "2       21\n",
       "3        8\n",
       "4       19\n",
       "        ..\n",
       "2235    18\n",
       "2236    22\n",
       "2237    19\n",
       "2238    23\n",
       "2239    11\n",
       "Name: Num_Total_Purchases, Length: 2240, dtype: int64"
      ]
     },
     "execution_count": 21,
     "metadata": {},
     "output_type": "execute_result"
    }
   ],
   "source": [
    "df['Num_Total_Purchases']"
   ]
  },
  {
   "cell_type": "markdown",
   "id": "52d2dca5",
   "metadata": {
    "id": "52d2dca5"
   },
   "source": [
    "### 9. Group the columns 'Kidhome' and 'Teenhome' as 'Kids'"
   ]
  },
  {
   "cell_type": "code",
   "execution_count": 22,
   "id": "f7c861a1",
   "metadata": {
    "id": "f7c861a1"
   },
   "outputs": [],
   "source": [
    "df['Kids']=df['Kidhome']+df['Teenhome']"
   ]
  },
  {
   "cell_type": "markdown",
   "id": "36f67474",
   "metadata": {
    "id": "36f67474"
   },
   "source": [
    "### 10. Group columns 'AcceptedCmp1 , 2 , 3 , 4, 5' and 'Response' as 'TotalAcceptedCmp'"
   ]
  },
  {
   "cell_type": "code",
   "execution_count": 23,
   "id": "ecc9109f",
   "metadata": {
    "id": "ecc9109f"
   },
   "outputs": [],
   "source": [
    "df['TotalAcceptedCmp']=df['AcceptedCmp1']+df['AcceptedCmp2']+df['AcceptedCmp3']+df['AcceptedCmp4']+df['AcceptedCmp5']+df['Response']"
   ]
  },
  {
   "cell_type": "markdown",
   "id": "886bfb08",
   "metadata": {
    "id": "886bfb08"
   },
   "source": [
    "### 11. Drop those columns which we have used above for obtaining new features"
   ]
  },
  {
   "cell_type": "code",
   "execution_count": 24,
   "id": "e853e663",
   "metadata": {
    "id": "e853e663"
   },
   "outputs": [],
   "source": [
    "df=df.drop(columns=['MntWines','MntFruits','MntMeatProducts','MntFishProducts','MntSweetProducts','MntGoldProds','NumDealsPurchases','NumCatalogPurchases','NumStorePurchases','NumWebPurchases','Kidhome','Teenhome','AcceptedCmp1','AcceptedCmp2','AcceptedCmp3','AcceptedCmp4','AcceptedCmp5','Response'],axis=1)"
   ]
  },
  {
   "cell_type": "code",
   "execution_count": 25,
   "id": "d6d3a38a",
   "metadata": {},
   "outputs": [
    {
     "name": "stdout",
     "output_type": "stream",
     "text": [
      "<class 'pandas.core.frame.DataFrame'>\n",
      "RangeIndex: 2240 entries, 0 to 2239\n",
      "Data columns (total 11 columns):\n",
      " #   Column               Non-Null Count  Dtype  \n",
      "---  ------               --------------  -----  \n",
      " 0   Year_Birth           2240 non-null   int64  \n",
      " 1   Education            2240 non-null   object \n",
      " 2   Marital_Status       2240 non-null   object \n",
      " 3   Income               2240 non-null   float64\n",
      " 4   Recency              2240 non-null   int64  \n",
      " 5   NumWebVisitsMonth    2240 non-null   int64  \n",
      " 6   Complain             2240 non-null   int64  \n",
      " 7   Total_Expenses       2240 non-null   int64  \n",
      " 8   Num_Total_Purchases  2240 non-null   int64  \n",
      " 9   Kids                 2240 non-null   int64  \n",
      " 10  TotalAcceptedCmp     2240 non-null   int64  \n",
      "dtypes: float64(1), int64(8), object(2)\n",
      "memory usage: 192.6+ KB\n"
     ]
    },
    {
     "data": {
      "text/plain": [
       "(2240, 11)"
      ]
     },
     "execution_count": 25,
     "metadata": {},
     "output_type": "execute_result"
    }
   ],
   "source": [
    "## Checking the shape and info\n",
    "df.info()\n",
    "df.shape"
   ]
  },
  {
   "cell_type": "markdown",
   "id": "4225ced7",
   "metadata": {
    "id": "4225ced7"
   },
   "source": [
    "### 12. Extract 'age' using the column 'Year_Birth' and then drop the column 'Year_birth'"
   ]
  },
  {
   "cell_type": "code",
   "execution_count": 26,
   "id": "d517611e",
   "metadata": {
    "id": "d517611e"
   },
   "outputs": [],
   "source": [
    "df['Age']=2022-df['Year_Birth']"
   ]
  },
  {
   "cell_type": "code",
   "execution_count": 27,
   "id": "974e943f",
   "metadata": {},
   "outputs": [],
   "source": [
    "df=df.drop(columns=['Year_Birth'],axis=1)"
   ]
  },
  {
   "cell_type": "code",
   "execution_count": 28,
   "id": "a789080c",
   "metadata": {},
   "outputs": [
    {
     "data": {
      "text/plain": [
       "Index(['Education', 'Marital_Status', 'Income', 'Recency', 'NumWebVisitsMonth',\n",
       "       'Complain', 'Total_Expenses', 'Num_Total_Purchases', 'Kids',\n",
       "       'TotalAcceptedCmp', 'Age'],\n",
       "      dtype='object')"
      ]
     },
     "execution_count": 28,
     "metadata": {},
     "output_type": "execute_result"
    }
   ],
   "source": [
    "df.columns"
   ]
  },
  {
   "cell_type": "code",
   "execution_count": 29,
   "id": "898e3f77",
   "metadata": {},
   "outputs": [],
   "source": [
    "dfc=df.copy()"
   ]
  },
  {
   "cell_type": "markdown",
   "id": "f2d3c92d",
   "metadata": {
    "id": "f2d3c92d"
   },
   "source": [
    "### 13. Encode the categorical variables in the dataset"
   ]
  },
  {
   "cell_type": "code",
   "execution_count": 30,
   "id": "030cfc32",
   "metadata": {
    "id": "030cfc32"
   },
   "outputs": [
    {
     "data": {
      "text/html": [
       "<div>\n",
       "<style scoped>\n",
       "    .dataframe tbody tr th:only-of-type {\n",
       "        vertical-align: middle;\n",
       "    }\n",
       "\n",
       "    .dataframe tbody tr th {\n",
       "        vertical-align: top;\n",
       "    }\n",
       "\n",
       "    .dataframe thead th {\n",
       "        text-align: right;\n",
       "    }\n",
       "</style>\n",
       "<table border=\"1\" class=\"dataframe\">\n",
       "  <thead>\n",
       "    <tr style=\"text-align: right;\">\n",
       "      <th></th>\n",
       "      <th>Education</th>\n",
       "      <th>Marital_Status</th>\n",
       "    </tr>\n",
       "  </thead>\n",
       "  <tbody>\n",
       "    <tr>\n",
       "      <th>count</th>\n",
       "      <td>2240</td>\n",
       "      <td>2240</td>\n",
       "    </tr>\n",
       "    <tr>\n",
       "      <th>unique</th>\n",
       "      <td>5</td>\n",
       "      <td>2</td>\n",
       "    </tr>\n",
       "    <tr>\n",
       "      <th>top</th>\n",
       "      <td>Graduation</td>\n",
       "      <td>Relationship</td>\n",
       "    </tr>\n",
       "    <tr>\n",
       "      <th>freq</th>\n",
       "      <td>1127</td>\n",
       "      <td>1760</td>\n",
       "    </tr>\n",
       "  </tbody>\n",
       "</table>\n",
       "</div>"
      ],
      "text/plain": [
       "         Education Marital_Status\n",
       "count         2240           2240\n",
       "unique           5              2\n",
       "top     Graduation   Relationship\n",
       "freq          1127           1760"
      ]
     },
     "execution_count": 30,
     "metadata": {},
     "output_type": "execute_result"
    }
   ],
   "source": [
    "df.describe(include='O')"
   ]
  },
  {
   "cell_type": "code",
   "execution_count": 31,
   "id": "ea7cb137",
   "metadata": {},
   "outputs": [],
   "source": [
    "## Label Encoding\n",
    "df_cat = df.select_dtypes(include='object')\n",
    "le = LabelEncoder()\n",
    "for col in df_cat:\n",
    "    df[col] = le.fit_transform(df[col])"
   ]
  },
  {
   "cell_type": "code",
   "execution_count": 32,
   "id": "f315e49c",
   "metadata": {},
   "outputs": [
    {
     "data": {
      "text/html": [
       "<div>\n",
       "<style scoped>\n",
       "    .dataframe tbody tr th:only-of-type {\n",
       "        vertical-align: middle;\n",
       "    }\n",
       "\n",
       "    .dataframe tbody tr th {\n",
       "        vertical-align: top;\n",
       "    }\n",
       "\n",
       "    .dataframe thead th {\n",
       "        text-align: right;\n",
       "    }\n",
       "</style>\n",
       "<table border=\"1\" class=\"dataframe\">\n",
       "  <thead>\n",
       "    <tr style=\"text-align: right;\">\n",
       "      <th></th>\n",
       "      <th>Education</th>\n",
       "      <th>Marital_Status</th>\n",
       "      <th>Income</th>\n",
       "      <th>Recency</th>\n",
       "      <th>NumWebVisitsMonth</th>\n",
       "      <th>Complain</th>\n",
       "      <th>Total_Expenses</th>\n",
       "      <th>Num_Total_Purchases</th>\n",
       "      <th>Kids</th>\n",
       "      <th>TotalAcceptedCmp</th>\n",
       "      <th>Age</th>\n",
       "    </tr>\n",
       "  </thead>\n",
       "  <tbody>\n",
       "    <tr>\n",
       "      <th>0</th>\n",
       "      <td>2</td>\n",
       "      <td>1</td>\n",
       "      <td>58138.0</td>\n",
       "      <td>58</td>\n",
       "      <td>7</td>\n",
       "      <td>0</td>\n",
       "      <td>1617</td>\n",
       "      <td>25</td>\n",
       "      <td>0</td>\n",
       "      <td>1</td>\n",
       "      <td>65</td>\n",
       "    </tr>\n",
       "    <tr>\n",
       "      <th>1</th>\n",
       "      <td>2</td>\n",
       "      <td>1</td>\n",
       "      <td>46344.0</td>\n",
       "      <td>38</td>\n",
       "      <td>5</td>\n",
       "      <td>0</td>\n",
       "      <td>27</td>\n",
       "      <td>6</td>\n",
       "      <td>2</td>\n",
       "      <td>0</td>\n",
       "      <td>68</td>\n",
       "    </tr>\n",
       "    <tr>\n",
       "      <th>2</th>\n",
       "      <td>2</td>\n",
       "      <td>0</td>\n",
       "      <td>71613.0</td>\n",
       "      <td>26</td>\n",
       "      <td>4</td>\n",
       "      <td>0</td>\n",
       "      <td>776</td>\n",
       "      <td>21</td>\n",
       "      <td>0</td>\n",
       "      <td>0</td>\n",
       "      <td>57</td>\n",
       "    </tr>\n",
       "    <tr>\n",
       "      <th>3</th>\n",
       "      <td>2</td>\n",
       "      <td>0</td>\n",
       "      <td>26646.0</td>\n",
       "      <td>26</td>\n",
       "      <td>6</td>\n",
       "      <td>0</td>\n",
       "      <td>53</td>\n",
       "      <td>8</td>\n",
       "      <td>1</td>\n",
       "      <td>0</td>\n",
       "      <td>38</td>\n",
       "    </tr>\n",
       "    <tr>\n",
       "      <th>4</th>\n",
       "      <td>4</td>\n",
       "      <td>0</td>\n",
       "      <td>58293.0</td>\n",
       "      <td>94</td>\n",
       "      <td>5</td>\n",
       "      <td>0</td>\n",
       "      <td>422</td>\n",
       "      <td>19</td>\n",
       "      <td>1</td>\n",
       "      <td>0</td>\n",
       "      <td>41</td>\n",
       "    </tr>\n",
       "  </tbody>\n",
       "</table>\n",
       "</div>"
      ],
      "text/plain": [
       "   Education  Marital_Status   Income  Recency  NumWebVisitsMonth  Complain  \\\n",
       "0          2               1  58138.0       58                  7         0   \n",
       "1          2               1  46344.0       38                  5         0   \n",
       "2          2               0  71613.0       26                  4         0   \n",
       "3          2               0  26646.0       26                  6         0   \n",
       "4          4               0  58293.0       94                  5         0   \n",
       "\n",
       "   Total_Expenses  Num_Total_Purchases  Kids  TotalAcceptedCmp  Age  \n",
       "0            1617                   25     0                 1   65  \n",
       "1              27                    6     2                 0   68  \n",
       "2             776                   21     0                 0   57  \n",
       "3              53                    8     1                 0   38  \n",
       "4             422                   19     1                 0   41  "
      ]
     },
     "execution_count": 32,
     "metadata": {},
     "output_type": "execute_result"
    }
   ],
   "source": [
    "df.head()"
   ]
  },
  {
   "cell_type": "markdown",
   "id": "9242e36d",
   "metadata": {
    "id": "9242e36d"
   },
   "source": [
    "### 14. Standardize the columns, so that values are in a particular range"
   ]
  },
  {
   "cell_type": "code",
   "execution_count": 33,
   "id": "72475b68",
   "metadata": {
    "id": "72475b68"
   },
   "outputs": [],
   "source": [
    "## Standardization\n",
    "df1 = df.copy()\n",
    "scaled_features = StandardScaler().fit_transform(df1.values)\n",
    "scaled_features_df = pd.DataFrame(scaled_features, index=df1.index, columns=df1.columns)"
   ]
  },
  {
   "cell_type": "code",
   "execution_count": 34,
   "id": "b6131a1a",
   "metadata": {},
   "outputs": [
    {
     "data": {
      "text/html": [
       "<div>\n",
       "<style scoped>\n",
       "    .dataframe tbody tr th:only-of-type {\n",
       "        vertical-align: middle;\n",
       "    }\n",
       "\n",
       "    .dataframe tbody tr th {\n",
       "        vertical-align: top;\n",
       "    }\n",
       "\n",
       "    .dataframe thead th {\n",
       "        text-align: right;\n",
       "    }\n",
       "</style>\n",
       "<table border=\"1\" class=\"dataframe\">\n",
       "  <thead>\n",
       "    <tr style=\"text-align: right;\">\n",
       "      <th></th>\n",
       "      <th>Education</th>\n",
       "      <th>Marital_Status</th>\n",
       "      <th>Income</th>\n",
       "      <th>Recency</th>\n",
       "      <th>NumWebVisitsMonth</th>\n",
       "      <th>Complain</th>\n",
       "      <th>Total_Expenses</th>\n",
       "      <th>Num_Total_Purchases</th>\n",
       "      <th>Kids</th>\n",
       "      <th>TotalAcceptedCmp</th>\n",
       "      <th>Age</th>\n",
       "    </tr>\n",
       "  </thead>\n",
       "  <tbody>\n",
       "    <tr>\n",
       "      <th>0</th>\n",
       "      <td>-0.350141</td>\n",
       "      <td>1.914854</td>\n",
       "      <td>0.235327</td>\n",
       "      <td>0.307039</td>\n",
       "      <td>0.693904</td>\n",
       "      <td>-0.097282</td>\n",
       "      <td>1.679417</td>\n",
       "      <td>1.320826</td>\n",
       "      <td>-1.264505</td>\n",
       "      <td>0.621248</td>\n",
       "      <td>0.985345</td>\n",
       "    </tr>\n",
       "    <tr>\n",
       "      <th>1</th>\n",
       "      <td>-0.350141</td>\n",
       "      <td>1.914854</td>\n",
       "      <td>-0.235826</td>\n",
       "      <td>-0.383664</td>\n",
       "      <td>-0.130463</td>\n",
       "      <td>-0.097282</td>\n",
       "      <td>-0.961275</td>\n",
       "      <td>-1.154596</td>\n",
       "      <td>1.396361</td>\n",
       "      <td>-0.501912</td>\n",
       "      <td>1.235733</td>\n",
       "    </tr>\n",
       "    <tr>\n",
       "      <th>2</th>\n",
       "      <td>-0.350141</td>\n",
       "      <td>-0.522233</td>\n",
       "      <td>0.773633</td>\n",
       "      <td>-0.798086</td>\n",
       "      <td>-0.542647</td>\n",
       "      <td>-0.097282</td>\n",
       "      <td>0.282673</td>\n",
       "      <td>0.799685</td>\n",
       "      <td>-1.264505</td>\n",
       "      <td>-0.501912</td>\n",
       "      <td>0.317643</td>\n",
       "    </tr>\n",
       "    <tr>\n",
       "      <th>3</th>\n",
       "      <td>-0.350141</td>\n",
       "      <td>-0.522233</td>\n",
       "      <td>-1.022732</td>\n",
       "      <td>-0.798086</td>\n",
       "      <td>0.281720</td>\n",
       "      <td>-0.097282</td>\n",
       "      <td>-0.918094</td>\n",
       "      <td>-0.894025</td>\n",
       "      <td>0.065928</td>\n",
       "      <td>-0.501912</td>\n",
       "      <td>-1.268149</td>\n",
       "    </tr>\n",
       "    <tr>\n",
       "      <th>4</th>\n",
       "      <td>1.428354</td>\n",
       "      <td>-0.522233</td>\n",
       "      <td>0.241519</td>\n",
       "      <td>1.550305</td>\n",
       "      <td>-0.130463</td>\n",
       "      <td>-0.097282</td>\n",
       "      <td>-0.305254</td>\n",
       "      <td>0.539114</td>\n",
       "      <td>0.065928</td>\n",
       "      <td>-0.501912</td>\n",
       "      <td>-1.017761</td>\n",
       "    </tr>\n",
       "  </tbody>\n",
       "</table>\n",
       "</div>"
      ],
      "text/plain": [
       "   Education  Marital_Status    Income   Recency  NumWebVisitsMonth  Complain  \\\n",
       "0  -0.350141        1.914854  0.235327  0.307039           0.693904 -0.097282   \n",
       "1  -0.350141        1.914854 -0.235826 -0.383664          -0.130463 -0.097282   \n",
       "2  -0.350141       -0.522233  0.773633 -0.798086          -0.542647 -0.097282   \n",
       "3  -0.350141       -0.522233 -1.022732 -0.798086           0.281720 -0.097282   \n",
       "4   1.428354       -0.522233  0.241519  1.550305          -0.130463 -0.097282   \n",
       "\n",
       "   Total_Expenses  Num_Total_Purchases      Kids  TotalAcceptedCmp       Age  \n",
       "0        1.679417             1.320826 -1.264505          0.621248  0.985345  \n",
       "1       -0.961275            -1.154596  1.396361         -0.501912  1.235733  \n",
       "2        0.282673             0.799685 -1.264505         -0.501912  0.317643  \n",
       "3       -0.918094            -0.894025  0.065928         -0.501912 -1.268149  \n",
       "4       -0.305254             0.539114  0.065928         -0.501912 -1.017761  "
      ]
     },
     "execution_count": 34,
     "metadata": {},
     "output_type": "execute_result"
    }
   ],
   "source": [
    "scaled_features_df.head()"
   ]
  },
  {
   "cell_type": "markdown",
   "id": "d063d2e2",
   "metadata": {
    "id": "d063d2e2"
   },
   "source": [
    "### 15. Apply PCA on the above dataset and determine the number of PCA components to be used so that 90-95% of the variance in data is explained by the same."
   ]
  },
  {
   "cell_type": "code",
   "execution_count": 35,
   "id": "6df3c70e",
   "metadata": {
    "id": "6df3c70e"
   },
   "outputs": [
    {
     "name": "stdout",
     "output_type": "stream",
     "text": [
      "Covariance matrix \n",
      " [[ 1.00044663e+00 -9.67920598e-03  1.20027297e-01 -1.17336854e-02\n",
      "  -4.02988173e-02 -5.05625191e-02  9.20951775e-02  9.40543885e-02\n",
      "   5.32130438e-02  6.32789156e-02  1.71466853e-01]\n",
      " [-9.67920598e-03  1.00044663e+00 -2.56394511e-02  7.16099838e-03\n",
      "  -7.14635380e-03  1.69421277e-02  5.94490499e-04 -4.20877415e-02\n",
      "  -5.53395635e-02  3.60645797e-02 -1.17030141e-01]\n",
      " [ 1.20027297e-01 -2.56394511e-02  1.00044663e+00 -3.94826239e-03\n",
      "  -5.50069657e-01 -2.72352757e-02  6.65003374e-01  5.63621397e-01\n",
      "  -2.90841549e-01  2.87174434e-01  1.61013782e-01]\n",
      " [-1.17336854e-02  7.16099838e-03 -3.94826239e-03  1.00044663e+00\n",
      "  -2.14542684e-02  1.32369878e-02  2.04417334e-02  5.74294350e-03\n",
      "   1.80614498e-02 -8.90020337e-02  1.98799637e-02]\n",
      " [-4.02988173e-02 -7.14635380e-03 -5.50069657e-01 -2.14542684e-02\n",
      "   1.00044663e+00  1.97773363e-02 -5.00441309e-01 -3.12427954e-01\n",
      "   4.18606158e-01 -1.28367257e-01 -1.21193363e-01]\n",
      " [-5.05625191e-02  1.69421277e-02 -2.72352757e-02  1.32369878e-02\n",
      "   1.97773363e-02  1.00044663e+00 -3.70750313e-02 -2.05918545e-02\n",
      "   3.10801443e-02 -1.76167581e-02  3.01410006e-02]\n",
      " [ 9.20951775e-02  5.94490499e-04  6.65003374e-01  2.04417334e-02\n",
      "  -5.00441309e-01 -3.70750313e-02  1.00044663e+00  7.54239836e-01\n",
      "  -4.99110466e-01  4.56409898e-01  1.11356106e-01]\n",
      " [ 9.40543885e-02 -4.20877415e-02  5.63621397e-01  5.74294350e-03\n",
      "  -3.12427954e-01 -2.05918545e-02  7.54239836e-01  1.00044663e+00\n",
      "  -2.45899552e-01  2.58160518e-01  1.68379081e-01]\n",
      " [ 5.32130438e-02 -5.53395635e-02 -2.90841549e-01  1.80614498e-02\n",
      "   4.18606158e-01  3.10801443e-02 -4.99110466e-01 -2.45899552e-01\n",
      "   1.00044663e+00 -2.53873719e-01  9.02395543e-02]\n",
      " [ 6.32789156e-02  3.60645797e-02  2.87174434e-01 -8.90020337e-02\n",
      "  -1.28367257e-01 -1.76167581e-02  4.56409898e-01  2.58160518e-01\n",
      "  -2.53873719e-01  1.00044663e+00 -8.30618470e-03]\n",
      " [ 1.71466853e-01 -1.17030141e-01  1.61013782e-01  1.98799637e-02\n",
      "  -1.21193363e-01  3.01410006e-02  1.11356106e-01  1.68379081e-01\n",
      "   9.02395543e-02 -8.30618470e-03  1.00044663e+00]]\n"
     ]
    }
   ],
   "source": [
    "## Calculating covariance matrix\n",
    "cov_matrix = np.cov(scaled_features_df.T)\n",
    "print('Covariance matrix','\\n',cov_matrix)"
   ]
  },
  {
   "cell_type": "code",
   "execution_count": 36,
   "id": "9dcd553e",
   "metadata": {},
   "outputs": [
    {
     "name": "stdout",
     "output_type": "stream",
     "text": [
      "Eigen vectors: \n",
      " [[ 8.10846157e-02 -1.26580008e-02 -2.39141020e-02 -4.65847687e-01\n",
      "  -9.05835502e-02  1.43135848e-01 -6.08331734e-01  3.66511521e-01\n",
      "   4.67633872e-01 -1.54445052e-01 -7.27674282e-03]\n",
      " [-5.61831292e-03 -6.85601446e-03  8.41094362e-03  3.79467705e-01\n",
      "  -2.68516044e-02 -2.24252489e-02  3.69997423e-01  5.41529035e-02\n",
      "   7.99716010e-01 -7.31953393e-02  2.64380713e-01]\n",
      " [ 4.54136788e-01 -1.10465490e-01  7.33549966e-01 -1.04783502e-01\n",
      "   3.99447573e-01  2.33175835e-01  7.55475060e-02 -5.58131156e-02\n",
      "   2.20187976e-04 -2.22440656e-03  9.86162227e-02]\n",
      " [-4.89299283e-03 -3.73341808e-02  1.74862864e-02 -8.69292147e-02\n",
      "   5.06902556e-02 -1.31476105e-01 -8.94753581e-02 -6.98925058e-01\n",
      "   2.44064063e-01 -4.36477721e-01 -4.73584361e-01]\n",
      " [-3.78757634e-01  9.87195248e-02  5.23541501e-01 -3.99301576e-02\n",
      "  -4.48347634e-01  8.65702925e-02  2.14540554e-01  2.38793462e-01\n",
      "   5.65870986e-02  9.20597946e-02 -4.97865343e-01]\n",
      " [-2.91609607e-02  6.25538381e-03  2.70902063e-03 -7.88373876e-03\n",
      "  -1.10286028e-02  8.32853158e-02 -2.42385581e-01 -3.91514644e-01\n",
      "   2.40557675e-01  8.47852973e-01 -5.67961042e-02]\n",
      " [ 5.13847529e-01  8.08708076e-01 -1.16964642e-01  3.69997619e-02\n",
      "  -1.70000392e-01  9.60927597e-02  7.89470455e-02  6.90811948e-04\n",
      "   5.17982371e-03  1.21757354e-02 -1.49532974e-01]\n",
      " [ 4.29318670e-01 -5.04638396e-01 -3.04415445e-01 -1.38184973e-01\n",
      "  -3.62463264e-01  4.20422726e-01  3.15784996e-01 -1.06537077e-02\n",
      "  -8.70772977e-03  4.67573503e-02 -1.97562884e-01]\n",
      " [-3.24504988e-01  1.91839180e-01 -2.55851209e-01 -3.98057903e-01\n",
      "   5.58877170e-01  3.59546775e-01  3.78979631e-01  7.44156662e-02\n",
      "   1.01509404e-01  5.89045997e-02 -1.71550486e-01]\n",
      " [ 2.79427028e-01 -1.75654168e-01 -1.09782333e-01  1.79239798e-01\n",
      "   3.52998108e-01 -4.80415735e-01  1.69028662e-03  3.86398479e-01\n",
      "   8.62076723e-02  1.82377818e-01 -5.49072006e-01]\n",
      " [ 1.05285770e-01  9.29028301e-03  5.46947418e-02 -6.38557973e-01\n",
      "  -1.74863971e-01 -5.88947530e-01  3.53498948e-01 -7.65763582e-02\n",
      "   5.74184377e-02  1.17795717e-01  2.29447257e-01]]\n",
      "\n",
      "\n",
      "Eigen values: \n",
      " [3.18985932 0.15894241 0.33399174 1.30557376 0.57452729 0.70832639\n",
      " 0.79002718 1.07000142 0.99047856 1.00448834 0.87869651]\n"
     ]
    }
   ],
   "source": [
    "## Calculating eigen values and eigen vectors\n",
    "eig_vals, eig_vecs = np.linalg.eig(cov_matrix)\n",
    "print('Eigen vectors:','\\n',eig_vecs)\n",
    "print('\\n')\n",
    "print('Eigen values:','\\n',eig_vals)"
   ]
  },
  {
   "cell_type": "code",
   "execution_count": 37,
   "id": "c21725b9",
   "metadata": {},
   "outputs": [
    {
     "name": "stdout",
     "output_type": "stream",
     "text": [
      "Variance Explained:  [28.985775199856988, 11.863553769484477, 9.722943057801793, 9.127635525696247, 9.000330755046058, 7.9845839939178225, 7.178858953220154, 6.436456091077675, 5.2206436940737735, 3.034933021662558, 1.4442859381624498]\n",
      "Cummulative Variance Explained:  [ 28.9857752   40.84932897  50.57227203  59.69990755  68.70023831\n",
      "  76.6848223   83.86368126  90.30013735  95.52078104  98.55571406\n",
      " 100.        ]\n"
     ]
    }
   ],
   "source": [
    "## Calculating the Variance explained and the cummulative variance explained\n",
    "total = sum(eig_vals)\n",
    "var_exp = [ (i/total)*100  for i in sorted(eig_vals,reverse=True)]\n",
    "cum_var_exp = np.cumsum(var_exp)\n",
    "print('Variance Explained: ',var_exp)\n",
    "print('Cummulative Variance Explained: ',cum_var_exp)"
   ]
  },
  {
   "cell_type": "code",
   "execution_count": 38,
   "id": "7d56eed9",
   "metadata": {},
   "outputs": [
    {
     "data": {
      "image/png": "[encoded data removed]",
      "text/plain": [
       "<Figure size 640x480 with 1 Axes>"
      ]
     },
     "metadata": {},
     "output_type": "display_data"
    }
   ],
   "source": [
    "## Scree plot\n",
    "plt.bar(range(11),var_exp, align='center',color='lightgreen',edgecolor='black',label='Explained Varinace')\n",
    "plt.step(range(11), cum_var_exp, where='mid',color='red',label='Cummulative explained Variance')\n",
    "plt.legend(loc = 'best')\n",
    "plt.ylabel('Explained Variance Ratio')\n",
    "plt.xlabel('Principal Components')\n",
    "plt.tight_layout()\n",
    "plt.show()"
   ]
  },
  {
   "cell_type": "markdown",
   "id": "b2df19d7",
   "metadata": {
    "id": "b2df19d7"
   },
   "source": [
    "### 16. Apply K-means clustering and segment the data (Use PCA transformed data for clustering)"
   ]
  },
  {
   "cell_type": "code",
   "execution_count": 39,
   "id": "a3a8bb4c",
   "metadata": {
    "id": "a3a8bb4c"
   },
   "outputs": [
    {
     "data": {
      "text/plain": [
       "PCA(n_components=9)"
      ]
     },
     "execution_count": 39,
     "metadata": {},
     "output_type": "execute_result"
    }
   ],
   "source": [
    "## Fitting the PCA model\n",
    "pca=PCA(n_components = 9)\n",
    "pca.fit(scaled_features_df)"
   ]
  },
  {
   "cell_type": "code",
   "execution_count": 40,
   "id": "f32872e5",
   "metadata": {},
   "outputs": [
    {
     "data": {
      "text/html": [
       "<div>\n",
       "<style scoped>\n",
       "    .dataframe tbody tr th:only-of-type {\n",
       "        vertical-align: middle;\n",
       "    }\n",
       "\n",
       "    .dataframe tbody tr th {\n",
       "        vertical-align: top;\n",
       "    }\n",
       "\n",
       "    .dataframe thead th {\n",
       "        text-align: right;\n",
       "    }\n",
       "</style>\n",
       "<table border=\"1\" class=\"dataframe\">\n",
       "  <thead>\n",
       "    <tr style=\"text-align: right;\">\n",
       "      <th></th>\n",
       "      <th>PC1</th>\n",
       "      <th>PC2</th>\n",
       "      <th>PC3</th>\n",
       "      <th>PC4</th>\n",
       "      <th>PC5</th>\n",
       "      <th>PC6</th>\n",
       "      <th>PC7</th>\n",
       "      <th>PC8</th>\n",
       "      <th>PC9</th>\n",
       "    </tr>\n",
       "  </thead>\n",
       "  <tbody>\n",
       "    <tr>\n",
       "      <th>0</th>\n",
       "      <td>1.923928</td>\n",
       "      <td>-0.676567</td>\n",
       "      <td>-0.009004</td>\n",
       "      <td>-0.002127</td>\n",
       "      <td>1.437427</td>\n",
       "      <td>0.363522</td>\n",
       "      <td>1.504078</td>\n",
       "      <td>-0.643323</td>\n",
       "      <td>-1.644130</td>\n",
       "    </tr>\n",
       "    <tr>\n",
       "      <th>1</th>\n",
       "      <td>-1.545026</td>\n",
       "      <td>0.357125</td>\n",
       "      <td>-0.090594</td>\n",
       "      <td>0.058002</td>\n",
       "      <td>1.417630</td>\n",
       "      <td>-1.429141</td>\n",
       "      <td>1.458276</td>\n",
       "      <td>-0.679390</td>\n",
       "      <td>0.895268</td>\n",
       "    </tr>\n",
       "    <tr>\n",
       "      <th>2</th>\n",
       "      <td>1.330256</td>\n",
       "      <td>-0.086195</td>\n",
       "      <td>0.054166</td>\n",
       "      <td>0.218719</td>\n",
       "      <td>-0.988987</td>\n",
       "      <td>-0.959562</td>\n",
       "      <td>-0.036147</td>\n",
       "      <td>0.154607</td>\n",
       "      <td>-0.718654</td>\n",
       "    </tr>\n",
       "    <tr>\n",
       "      <th>3</th>\n",
       "      <td>-1.740621</td>\n",
       "      <td>-0.914155</td>\n",
       "      <td>-0.480602</td>\n",
       "      <td>0.096361</td>\n",
       "      <td>-0.890208</td>\n",
       "      <td>-0.294064</td>\n",
       "      <td>-0.681012</td>\n",
       "      <td>0.391946</td>\n",
       "      <td>0.033074</td>\n",
       "    </tr>\n",
       "    <tr>\n",
       "      <th>4</th>\n",
       "      <td>0.078899</td>\n",
       "      <td>0.569762</td>\n",
       "      <td>0.711916</td>\n",
       "      <td>-1.140131</td>\n",
       "      <td>0.496661</td>\n",
       "      <td>0.818476</td>\n",
       "      <td>-1.376511</td>\n",
       "      <td>1.110813</td>\n",
       "      <td>0.013388</td>\n",
       "    </tr>\n",
       "  </tbody>\n",
       "</table>\n",
       "</div>"
      ],
      "text/plain": [
       "        PC1       PC2       PC3       PC4       PC5       PC6       PC7  \\\n",
       "0  1.923928 -0.676567 -0.009004 -0.002127  1.437427  0.363522  1.504078   \n",
       "1 -1.545026  0.357125 -0.090594  0.058002  1.417630 -1.429141  1.458276   \n",
       "2  1.330256 -0.086195  0.054166  0.218719 -0.988987 -0.959562 -0.036147   \n",
       "3 -1.740621 -0.914155 -0.480602  0.096361 -0.890208 -0.294064 -0.681012   \n",
       "4  0.078899  0.569762  0.711916 -1.140131  0.496661  0.818476 -1.376511   \n",
       "\n",
       "        PC8       PC9  \n",
       "0 -0.643323 -1.644130  \n",
       "1 -0.679390  0.895268  \n",
       "2  0.154607 -0.718654  \n",
       "3  0.391946  0.033074  \n",
       "4  1.110813  0.013388  "
      ]
     },
     "execution_count": 40,
     "metadata": {},
     "output_type": "execute_result"
    }
   ],
   "source": [
    "data_pca = pca.transform(scaled_features_df)\n",
    "data_pca = pd.DataFrame(data_pca,columns=['PC1','PC2','PC3','PC4','PC5','PC6','PC7','PC8','PC9'])\n",
    "data_pca.head()"
   ]
  },
  {
   "cell_type": "code",
   "execution_count": 41,
   "id": "a0160090",
   "metadata": {},
   "outputs": [
    {
     "data": {
      "text/html": [
       "<div>\n",
       "<style scoped>\n",
       "    .dataframe tbody tr th:only-of-type {\n",
       "        vertical-align: middle;\n",
       "    }\n",
       "\n",
       "    .dataframe tbody tr th {\n",
       "        vertical-align: top;\n",
       "    }\n",
       "\n",
       "    .dataframe thead th {\n",
       "        text-align: right;\n",
       "    }\n",
       "</style>\n",
       "<table border=\"1\" class=\"dataframe\">\n",
       "  <thead>\n",
       "    <tr style=\"text-align: right;\">\n",
       "      <th></th>\n",
       "      <th>num_clusters</th>\n",
       "      <th>cluster_errors</th>\n",
       "    </tr>\n",
       "  </thead>\n",
       "  <tbody>\n",
       "    <tr>\n",
       "      <th>0</th>\n",
       "      <td>1</td>\n",
       "      <td>23536.320448</td>\n",
       "    </tr>\n",
       "    <tr>\n",
       "      <th>1</th>\n",
       "      <td>2</td>\n",
       "      <td>18132.126083</td>\n",
       "    </tr>\n",
       "    <tr>\n",
       "      <th>2</th>\n",
       "      <td>3</td>\n",
       "      <td>16649.683546</td>\n",
       "    </tr>\n",
       "    <tr>\n",
       "      <th>3</th>\n",
       "      <td>4</td>\n",
       "      <td>14625.680933</td>\n",
       "    </tr>\n",
       "    <tr>\n",
       "      <th>4</th>\n",
       "      <td>5</td>\n",
       "      <td>13338.375173</td>\n",
       "    </tr>\n",
       "    <tr>\n",
       "      <th>5</th>\n",
       "      <td>6</td>\n",
       "      <td>12229.526642</td>\n",
       "    </tr>\n",
       "    <tr>\n",
       "      <th>6</th>\n",
       "      <td>7</td>\n",
       "      <td>11451.940462</td>\n",
       "    </tr>\n",
       "    <tr>\n",
       "      <th>7</th>\n",
       "      <td>8</td>\n",
       "      <td>10994.673768</td>\n",
       "    </tr>\n",
       "    <tr>\n",
       "      <th>8</th>\n",
       "      <td>9</td>\n",
       "      <td>10421.680089</td>\n",
       "    </tr>\n",
       "    <tr>\n",
       "      <th>9</th>\n",
       "      <td>10</td>\n",
       "      <td>10064.530500</td>\n",
       "    </tr>\n",
       "    <tr>\n",
       "      <th>10</th>\n",
       "      <td>11</td>\n",
       "      <td>9778.603111</td>\n",
       "    </tr>\n",
       "    <tr>\n",
       "      <th>11</th>\n",
       "      <td>12</td>\n",
       "      <td>9488.438153</td>\n",
       "    </tr>\n",
       "    <tr>\n",
       "      <th>12</th>\n",
       "      <td>13</td>\n",
       "      <td>9246.113327</td>\n",
       "    </tr>\n",
       "    <tr>\n",
       "      <th>13</th>\n",
       "      <td>14</td>\n",
       "      <td>9049.843292</td>\n",
       "    </tr>\n",
       "  </tbody>\n",
       "</table>\n",
       "</div>"
      ],
      "text/plain": [
       "    num_clusters  cluster_errors\n",
       "0              1    23536.320448\n",
       "1              2    18132.126083\n",
       "2              3    16649.683546\n",
       "3              4    14625.680933\n",
       "4              5    13338.375173\n",
       "5              6    12229.526642\n",
       "6              7    11451.940462\n",
       "7              8    10994.673768\n",
       "8              9    10421.680089\n",
       "9             10    10064.530500\n",
       "10            11     9778.603111\n",
       "11            12     9488.438153\n",
       "12            13     9246.113327\n",
       "13            14     9049.843292"
      ]
     },
     "execution_count": 41,
     "metadata": {},
     "output_type": "execute_result"
    }
   ],
   "source": [
    "cluster_range = range(1,15)\n",
    "cluster_errors = []\n",
    "\n",
    "for num_clusters in cluster_range:\n",
    "   \n",
    "    clusters = KMeans(num_clusters, random_state=100)\n",
    "    clusters.fit(data_pca)\n",
    "    \n",
    "    labels = clusters.labels_\n",
    "    centroids = clusters.cluster_centers_\n",
    "    \n",
    "    cluster_errors.append(clusters.inertia_)\n",
    "\n",
    "clusters_df = pd.DataFrame({'num_clusters':cluster_range, \n",
    "                           'cluster_errors':cluster_errors})\n",
    "\n",
    "clusters_df"
   ]
  },
  {
   "cell_type": "code",
   "execution_count": 42,
   "id": "1fa82a4a",
   "metadata": {},
   "outputs": [
    {
     "data": {
      "image/png": "[encoded data removed]",
      "text/plain": [
       "<Figure size 1200x600 with 1 Axes>"
      ]
     },
     "metadata": {},
     "output_type": "display_data"
    }
   ],
   "source": [
    "## Elbow method\n",
    "plt.figure(figsize=[12,6])\n",
    "plt.title('The Elbow Method')\n",
    "plt.xlabel('Number of clusters using PCA')\n",
    "plt.plot(clusters_df['num_clusters'],clusters_df['cluster_errors'],marker='o',color='b')\n",
    "plt.show()"
   ]
  },
  {
   "cell_type": "code",
   "execution_count": 43,
   "id": "b2f5cdad",
   "metadata": {},
   "outputs": [
    {
     "data": {
      "text/plain": [
       "KMeans(n_clusters=3, random_state=100)"
      ]
     },
     "execution_count": 43,
     "metadata": {},
     "output_type": "execute_result"
    }
   ],
   "source": [
    "## Fit the KMeans clustering model using the obtained optimal K\n",
    "kmeans = KMeans(n_clusters=3, random_state=100)\n",
    "kmeans.fit(data_pca)"
   ]
  },
  {
   "cell_type": "code",
   "execution_count": 44,
   "id": "b0368c4e",
   "metadata": {},
   "outputs": [
    {
     "data": {
      "text/html": [
       "<div>\n",
       "<style scoped>\n",
       "    .dataframe tbody tr th:only-of-type {\n",
       "        vertical-align: middle;\n",
       "    }\n",
       "\n",
       "    .dataframe tbody tr th {\n",
       "        vertical-align: top;\n",
       "    }\n",
       "\n",
       "    .dataframe thead th {\n",
       "        text-align: right;\n",
       "    }\n",
       "</style>\n",
       "<table border=\"1\" class=\"dataframe\">\n",
       "  <thead>\n",
       "    <tr style=\"text-align: right;\">\n",
       "      <th></th>\n",
       "      <th>Labels</th>\n",
       "    </tr>\n",
       "  </thead>\n",
       "  <tbody>\n",
       "    <tr>\n",
       "      <th>0</th>\n",
       "      <td>1</td>\n",
       "    </tr>\n",
       "    <tr>\n",
       "      <th>1</th>\n",
       "      <td>0</td>\n",
       "    </tr>\n",
       "    <tr>\n",
       "      <th>2</th>\n",
       "      <td>2</td>\n",
       "    </tr>\n",
       "    <tr>\n",
       "      <th>3</th>\n",
       "      <td>0</td>\n",
       "    </tr>\n",
       "    <tr>\n",
       "      <th>4</th>\n",
       "      <td>2</td>\n",
       "    </tr>\n",
       "  </tbody>\n",
       "</table>\n",
       "</div>"
      ],
      "text/plain": [
       "   Labels\n",
       "0       1\n",
       "1       0\n",
       "2       2\n",
       "3       0\n",
       "4       2"
      ]
     },
     "execution_count": 44,
     "metadata": {},
     "output_type": "execute_result"
    }
   ],
   "source": [
    "## Creating a new dataframe only for labels.\n",
    "df_labels = pd.DataFrame(kmeans.labels_, columns=list(['Labels']))\n",
    "df_labels.head(5)"
   ]
  },
  {
   "cell_type": "code",
   "execution_count": 45,
   "id": "9f9bf0ed",
   "metadata": {},
   "outputs": [
    {
     "data": {
      "text/html": [
       "<div>\n",
       "<style scoped>\n",
       "    .dataframe tbody tr th:only-of-type {\n",
       "        vertical-align: middle;\n",
       "    }\n",
       "\n",
       "    .dataframe tbody tr th {\n",
       "        vertical-align: top;\n",
       "    }\n",
       "\n",
       "    .dataframe thead th {\n",
       "        text-align: right;\n",
       "    }\n",
       "</style>\n",
       "<table border=\"1\" class=\"dataframe\">\n",
       "  <thead>\n",
       "    <tr style=\"text-align: right;\">\n",
       "      <th></th>\n",
       "      <th>PC1</th>\n",
       "      <th>PC2</th>\n",
       "      <th>PC3</th>\n",
       "      <th>PC4</th>\n",
       "      <th>PC5</th>\n",
       "      <th>PC6</th>\n",
       "      <th>PC7</th>\n",
       "      <th>PC8</th>\n",
       "      <th>PC9</th>\n",
       "      <th>Labels</th>\n",
       "    </tr>\n",
       "  </thead>\n",
       "  <tbody>\n",
       "    <tr>\n",
       "      <th>0</th>\n",
       "      <td>1.923928</td>\n",
       "      <td>-0.676567</td>\n",
       "      <td>-0.009004</td>\n",
       "      <td>-0.002127</td>\n",
       "      <td>1.437427</td>\n",
       "      <td>0.363522</td>\n",
       "      <td>1.504078</td>\n",
       "      <td>-0.643323</td>\n",
       "      <td>-1.644130</td>\n",
       "      <td>1</td>\n",
       "    </tr>\n",
       "    <tr>\n",
       "      <th>1</th>\n",
       "      <td>-1.545026</td>\n",
       "      <td>0.357125</td>\n",
       "      <td>-0.090594</td>\n",
       "      <td>0.058002</td>\n",
       "      <td>1.417630</td>\n",
       "      <td>-1.429141</td>\n",
       "      <td>1.458276</td>\n",
       "      <td>-0.679390</td>\n",
       "      <td>0.895268</td>\n",
       "      <td>0</td>\n",
       "    </tr>\n",
       "    <tr>\n",
       "      <th>2</th>\n",
       "      <td>1.330256</td>\n",
       "      <td>-0.086195</td>\n",
       "      <td>0.054166</td>\n",
       "      <td>0.218719</td>\n",
       "      <td>-0.988987</td>\n",
       "      <td>-0.959562</td>\n",
       "      <td>-0.036147</td>\n",
       "      <td>0.154607</td>\n",
       "      <td>-0.718654</td>\n",
       "      <td>2</td>\n",
       "    </tr>\n",
       "    <tr>\n",
       "      <th>3</th>\n",
       "      <td>-1.740621</td>\n",
       "      <td>-0.914155</td>\n",
       "      <td>-0.480602</td>\n",
       "      <td>0.096361</td>\n",
       "      <td>-0.890208</td>\n",
       "      <td>-0.294064</td>\n",
       "      <td>-0.681012</td>\n",
       "      <td>0.391946</td>\n",
       "      <td>0.033074</td>\n",
       "      <td>0</td>\n",
       "    </tr>\n",
       "    <tr>\n",
       "      <th>4</th>\n",
       "      <td>0.078899</td>\n",
       "      <td>0.569762</td>\n",
       "      <td>0.711916</td>\n",
       "      <td>-1.140131</td>\n",
       "      <td>0.496661</td>\n",
       "      <td>0.818476</td>\n",
       "      <td>-1.376511</td>\n",
       "      <td>1.110813</td>\n",
       "      <td>0.013388</td>\n",
       "      <td>2</td>\n",
       "    </tr>\n",
       "  </tbody>\n",
       "</table>\n",
       "</div>"
      ],
      "text/plain": [
       "        PC1       PC2       PC3       PC4       PC5       PC6       PC7  \\\n",
       "0  1.923928 -0.676567 -0.009004 -0.002127  1.437427  0.363522  1.504078   \n",
       "1 -1.545026  0.357125 -0.090594  0.058002  1.417630 -1.429141  1.458276   \n",
       "2  1.330256 -0.086195  0.054166  0.218719 -0.988987 -0.959562 -0.036147   \n",
       "3 -1.740621 -0.914155 -0.480602  0.096361 -0.890208 -0.294064 -0.681012   \n",
       "4  0.078899  0.569762  0.711916 -1.140131  0.496661  0.818476 -1.376511   \n",
       "\n",
       "        PC8       PC9  Labels  \n",
       "0 -0.643323 -1.644130       1  \n",
       "1 -0.679390  0.895268       0  \n",
       "2  0.154607 -0.718654       2  \n",
       "3  0.391946  0.033074       0  \n",
       "4  1.110813  0.013388       2  "
      ]
     },
     "execution_count": 45,
     "metadata": {},
     "output_type": "execute_result"
    }
   ],
   "source": [
    "## Joining the label dataframe to the data_pca dataframe\n",
    "kmeans_df = data_pca.join(df_labels)\n",
    "kmeans_df.head()"
   ]
  },
  {
   "cell_type": "code",
   "execution_count": 46,
   "id": "eff55bba",
   "metadata": {},
   "outputs": [
    {
     "data": {
      "text/plain": [
       "0    1012\n",
       "2     717\n",
       "1     511\n",
       "Name: Labels, dtype: int64"
      ]
     },
     "execution_count": 46,
     "metadata": {},
     "output_type": "execute_result"
    }
   ],
   "source": [
    "kmeans_df['Labels'].value_counts()"
   ]
  },
  {
   "cell_type": "code",
   "execution_count": 47,
   "id": "83af26da",
   "metadata": {},
   "outputs": [
    {
     "data": {
      "image/png": "[encoded data removed]",
      "text/plain": [
       "<Figure size 640x480 with 1 Axes>"
      ]
     },
     "metadata": {},
     "output_type": "display_data"
    }
   ],
   "source": [
    "## Visualizing the clusters formed\n",
    "sns.scatterplot(kmeans_df['PC1'],kmeans_df['PC2'],hue='Labels',data=kmeans_df)\n",
    "plt.show()"
   ]
  },
  {
   "cell_type": "code",
   "execution_count": 48,
   "id": "3b27ed53",
   "metadata": {},
   "outputs": [
    {
     "name": "stdout",
     "output_type": "stream",
     "text": [
      "2 0.23240446468591935\n",
      "3 0.1579105957009556\n",
      "4 0.20033626077354003\n",
      "5 0.17547996051451073\n",
      "6 0.14308408742548595\n",
      "7 0.1546250044187883\n",
      "8 0.16136859371093074\n",
      "9 0.15487675340508555\n",
      "10 0.14929671688167304\n",
      "11 0.1519392608158246\n",
      "12 0.14422816903179636\n",
      "13 0.14253523419971015\n",
      "14 0.15122186240897323\n"
     ]
    }
   ],
   "source": [
    "from sklearn.metrics import silhouette_score\n",
    "\n",
    "kmeans_score = []\n",
    "\n",
    "for i in range(2,15):\n",
    "    kmeans = KMeans(n_clusters=i)\n",
    "    kmeans = kmeans.fit(data_pca)\n",
    "    labels = kmeans.predict(data_pca)\n",
    "    print(i,silhouette_score(data_pca,labels))"
   ]
  },
  {
   "cell_type": "markdown",
   "id": "455ef385",
   "metadata": {},
   "source": [
    "- From above, we can observe that for 3 clusters the silhoutte score is highest, we can choose optimal clusters as 3."
   ]
  },
  {
   "cell_type": "markdown",
   "id": "d8463aed",
   "metadata": {
    "id": "d8463aed"
   },
   "source": [
    "### 17. Apply Agglomerative clustering and segment the data (Use Original data for clustering), and perform cluster analysis by doing bivariate analysis between the cluster label and different features and write your observations."
   ]
  },
  {
   "cell_type": "code",
   "execution_count": 49,
   "id": "b5ca165b",
   "metadata": {
    "id": "b5ca165b"
   },
   "outputs": [
    {
     "data": {
      "image/png": "[encoded data removed]",
      "text/plain": [
       "<Figure size 1800x600 with 1 Axes>"
      ]
     },
     "metadata": {},
     "output_type": "display_data"
    }
   ],
   "source": [
    "plt.figure(figsize=[18,6])\n",
    "merg = linkage(scaled_features, method='ward')\n",
    "dendrogram(merg, leaf_rotation=90,)\n",
    "plt.xlabel('Datapoints')\n",
    "plt.ylabel('Euclidean distance')\n",
    "plt.show()"
   ]
  },
  {
   "cell_type": "code",
   "execution_count": 50,
   "id": "1b4937ca",
   "metadata": {
    "scrolled": true
   },
   "outputs": [
    {
     "name": "stdout",
     "output_type": "stream",
     "text": [
      "2 0.15489149712418238\n",
      "3 0.17592877764995915\n",
      "4 0.18294938888487766\n",
      "5 0.1586722166369534\n",
      "6 0.16451765409563066\n",
      "7 0.14168680354829943\n",
      "8 0.10959402428376835\n",
      "9 0.10951162687931217\n",
      "10 0.10034851243600752\n",
      "11 0.09258175844401684\n",
      "12 0.09790806805230966\n",
      "13 0.09457434020400292\n",
      "14 0.09699288812712091\n"
     ]
    }
   ],
   "source": [
    "from sklearn.metrics import silhouette_score\n",
    "\n",
    "for i in range(2,15):\n",
    "    hier = AgglomerativeClustering(n_clusters=i)\n",
    "    hier = hier.fit(scaled_features_df)\n",
    "    labels = hier.fit_predict(scaled_features_df)\n",
    "    print(i,silhouette_score(scaled_features_df,labels))"
   ]
  },
  {
   "cell_type": "markdown",
   "id": "1bad1ade",
   "metadata": {},
   "source": [
    "- From the observation of dendogram and silhouette scores, the highest silhouette score is for the cluster 4.\n",
    "- Let's choose K=4 as the optimal cluster size and build agglomerative clustering model."
   ]
  },
  {
   "cell_type": "code",
   "execution_count": 51,
   "id": "8ce4f6c8",
   "metadata": {},
   "outputs": [],
   "source": [
    "## Building Hierarchical clustering model using the optimal clustera as 4 using original data\n",
    "hie_cluster = AgglomerativeClustering(n_clusters=4, affinity='euclidean', linkage='ward')\n",
    "hie_cluster_model = hie_cluster.fit(scaled_features_df)"
   ]
  },
  {
   "cell_type": "code",
   "execution_count": 52,
   "id": "6b8fe761",
   "metadata": {},
   "outputs": [
    {
     "data": {
      "text/html": [
       "<div>\n",
       "<style scoped>\n",
       "    .dataframe tbody tr th:only-of-type {\n",
       "        vertical-align: middle;\n",
       "    }\n",
       "\n",
       "    .dataframe tbody tr th {\n",
       "        vertical-align: top;\n",
       "    }\n",
       "\n",
       "    .dataframe thead th {\n",
       "        text-align: right;\n",
       "    }\n",
       "</style>\n",
       "<table border=\"1\" class=\"dataframe\">\n",
       "  <thead>\n",
       "    <tr style=\"text-align: right;\">\n",
       "      <th></th>\n",
       "      <th>Labels</th>\n",
       "    </tr>\n",
       "  </thead>\n",
       "  <tbody>\n",
       "    <tr>\n",
       "      <th>0</th>\n",
       "      <td>0</td>\n",
       "    </tr>\n",
       "    <tr>\n",
       "      <th>1</th>\n",
       "      <td>0</td>\n",
       "    </tr>\n",
       "    <tr>\n",
       "      <th>2</th>\n",
       "      <td>1</td>\n",
       "    </tr>\n",
       "    <tr>\n",
       "      <th>3</th>\n",
       "      <td>2</td>\n",
       "    </tr>\n",
       "    <tr>\n",
       "      <th>4</th>\n",
       "      <td>1</td>\n",
       "    </tr>\n",
       "  </tbody>\n",
       "</table>\n",
       "</div>"
      ],
      "text/plain": [
       "   Labels\n",
       "0       0\n",
       "1       0\n",
       "2       1\n",
       "3       2\n",
       "4       1"
      ]
     },
     "execution_count": 52,
     "metadata": {},
     "output_type": "execute_result"
    }
   ],
   "source": [
    "## Creating a dataframe of the Labels\n",
    "df_label1=pd.DataFrame(hie_cluster_model.labels_,columns=['Labels'])\n",
    "df_label1.head()"
   ]
  },
  {
   "cell_type": "code",
   "execution_count": 53,
   "id": "1d4d71af",
   "metadata": {},
   "outputs": [
    {
     "data": {
      "text/html": [
       "<div>\n",
       "<style scoped>\n",
       "    .dataframe tbody tr th:only-of-type {\n",
       "        vertical-align: middle;\n",
       "    }\n",
       "\n",
       "    .dataframe tbody tr th {\n",
       "        vertical-align: top;\n",
       "    }\n",
       "\n",
       "    .dataframe thead th {\n",
       "        text-align: right;\n",
       "    }\n",
       "</style>\n",
       "<table border=\"1\" class=\"dataframe\">\n",
       "  <thead>\n",
       "    <tr style=\"text-align: right;\">\n",
       "      <th></th>\n",
       "      <th>Education</th>\n",
       "      <th>Marital_Status</th>\n",
       "      <th>Income</th>\n",
       "      <th>Recency</th>\n",
       "      <th>NumWebVisitsMonth</th>\n",
       "      <th>Complain</th>\n",
       "      <th>Total_Expenses</th>\n",
       "      <th>Num_Total_Purchases</th>\n",
       "      <th>Kids</th>\n",
       "      <th>TotalAcceptedCmp</th>\n",
       "      <th>Age</th>\n",
       "      <th>Labels</th>\n",
       "    </tr>\n",
       "  </thead>\n",
       "  <tbody>\n",
       "    <tr>\n",
       "      <th>0</th>\n",
       "      <td>Graduation</td>\n",
       "      <td>Single</td>\n",
       "      <td>58138.0</td>\n",
       "      <td>58</td>\n",
       "      <td>7</td>\n",
       "      <td>0</td>\n",
       "      <td>1617</td>\n",
       "      <td>25</td>\n",
       "      <td>0</td>\n",
       "      <td>1</td>\n",
       "      <td>65</td>\n",
       "      <td>0</td>\n",
       "    </tr>\n",
       "    <tr>\n",
       "      <th>1</th>\n",
       "      <td>Graduation</td>\n",
       "      <td>Single</td>\n",
       "      <td>46344.0</td>\n",
       "      <td>38</td>\n",
       "      <td>5</td>\n",
       "      <td>0</td>\n",
       "      <td>27</td>\n",
       "      <td>6</td>\n",
       "      <td>2</td>\n",
       "      <td>0</td>\n",
       "      <td>68</td>\n",
       "      <td>0</td>\n",
       "    </tr>\n",
       "    <tr>\n",
       "      <th>2</th>\n",
       "      <td>Graduation</td>\n",
       "      <td>Relationship</td>\n",
       "      <td>71613.0</td>\n",
       "      <td>26</td>\n",
       "      <td>4</td>\n",
       "      <td>0</td>\n",
       "      <td>776</td>\n",
       "      <td>21</td>\n",
       "      <td>0</td>\n",
       "      <td>0</td>\n",
       "      <td>57</td>\n",
       "      <td>1</td>\n",
       "    </tr>\n",
       "    <tr>\n",
       "      <th>3</th>\n",
       "      <td>Graduation</td>\n",
       "      <td>Relationship</td>\n",
       "      <td>26646.0</td>\n",
       "      <td>26</td>\n",
       "      <td>6</td>\n",
       "      <td>0</td>\n",
       "      <td>53</td>\n",
       "      <td>8</td>\n",
       "      <td>1</td>\n",
       "      <td>0</td>\n",
       "      <td>38</td>\n",
       "      <td>2</td>\n",
       "    </tr>\n",
       "    <tr>\n",
       "      <th>4</th>\n",
       "      <td>PhD</td>\n",
       "      <td>Relationship</td>\n",
       "      <td>58293.0</td>\n",
       "      <td>94</td>\n",
       "      <td>5</td>\n",
       "      <td>0</td>\n",
       "      <td>422</td>\n",
       "      <td>19</td>\n",
       "      <td>1</td>\n",
       "      <td>0</td>\n",
       "      <td>41</td>\n",
       "      <td>1</td>\n",
       "    </tr>\n",
       "  </tbody>\n",
       "</table>\n",
       "</div>"
      ],
      "text/plain": [
       "    Education Marital_Status   Income  Recency  NumWebVisitsMonth  Complain  \\\n",
       "0  Graduation         Single  58138.0       58                  7         0   \n",
       "1  Graduation         Single  46344.0       38                  5         0   \n",
       "2  Graduation   Relationship  71613.0       26                  4         0   \n",
       "3  Graduation   Relationship  26646.0       26                  6         0   \n",
       "4         PhD   Relationship  58293.0       94                  5         0   \n",
       "\n",
       "   Total_Expenses  Num_Total_Purchases  Kids  TotalAcceptedCmp  Age  Labels  \n",
       "0            1617                   25     0                 1   65       0  \n",
       "1              27                    6     2                 0   68       0  \n",
       "2             776                   21     0                 0   57       1  \n",
       "3              53                    8     1                 0   38       2  \n",
       "4             422                   19     1                 0   41       1  "
      ]
     },
     "execution_count": 53,
     "metadata": {},
     "output_type": "execute_result"
    }
   ],
   "source": [
    "## Joining the label dataframe to the Original dataframe before standardization\n",
    "df_hier = dfc.join(df_label1)\n",
    "df_hier.head()"
   ]
  },
  {
   "cell_type": "markdown",
   "id": "797a5ecd",
   "metadata": {
    "id": "797a5ecd"
   },
   "source": [
    "### Visualization and Interpretation of results"
   ]
  },
  {
   "cell_type": "code",
   "execution_count": 54,
   "id": "d1e75760",
   "metadata": {
    "id": "d1e75760"
   },
   "outputs": [
    {
     "data": {
      "image/png": "[encoded data removed]",
      "text/plain": [
       "<Figure size 640x480 with 1 Axes>"
      ]
     },
     "metadata": {},
     "output_type": "display_data"
    }
   ],
   "source": [
    "sns.barplot(df_hier['Labels'],df_hier['Total_Expenses'])\n",
    "plt.show()"
   ]
  },
  {
   "cell_type": "markdown",
   "id": "4e05a0b0",
   "metadata": {},
   "source": [
    "- The Total_Expenses is much higher for cluster 1 compared to the clusters 0,2 and 3"
   ]
  },
  {
   "cell_type": "code",
   "execution_count": 55,
   "id": "bc04ced5",
   "metadata": {},
   "outputs": [
    {
     "data": {
      "image/png": "[encoded data removed]",
      "text/plain": [
       "<Figure size 640x480 with 1 Axes>"
      ]
     },
     "metadata": {},
     "output_type": "display_data"
    }
   ],
   "source": [
    "sns.barplot(df_hier['Labels'],df_hier['Income'])\n",
    "plt.show()"
   ]
  },
  {
   "cell_type": "markdown",
   "id": "35a1db61",
   "metadata": {},
   "source": [
    "- Where as the Income is also higher for the cluster 1 followed by the cluster 0, 3 and 2"
   ]
  },
  {
   "cell_type": "code",
   "execution_count": 56,
   "id": "ffd26949",
   "metadata": {},
   "outputs": [
    {
     "data": {
      "image/png": "[encoded data removed]",
      "text/plain": [
       "<Figure size 640x480 with 1 Axes>"
      ]
     },
     "metadata": {},
     "output_type": "display_data"
    }
   ],
   "source": [
    "sns.countplot(df_hier['Marital_Status'], hue= 'Labels', data=df_hier)\n",
    "plt.show()"
   ]
  },
  {
   "cell_type": "markdown",
   "id": "f32fa618",
   "metadata": {},
   "source": [
    "- We can observe that the most of the customer who are in a relationship falls under cluster 1 and followed by cluster 2"
   ]
  },
  {
   "cell_type": "code",
   "execution_count": 57,
   "id": "612683b4",
   "metadata": {},
   "outputs": [
    {
     "data": {
      "image/png": "[encoded data removed]",
      "text/plain": [
       "<Figure size 640x480 with 1 Axes>"
      ]
     },
     "metadata": {},
     "output_type": "display_data"
    }
   ],
   "source": [
    "sns.barplot(df_hier['Labels'],df_hier['Num_Total_Purchases'])\n",
    "plt.show()"
   ]
  },
  {
   "cell_type": "markdown",
   "id": "50db5460",
   "metadata": {},
   "source": [
    "- The Total number of purchases is also mucch higher for the customers from cluster 1 compared to cluster 0, 3 and 2."
   ]
  },
  {
   "cell_type": "markdown",
   "id": "f3fa18f4",
   "metadata": {},
   "source": [
    "### Conclusion"
   ]
  },
  {
   "cell_type": "markdown",
   "id": "13b4da4e",
   "metadata": {},
   "source": [
    "- We can conclude that the customers belong to cluster 1 does the maximum purchases, has spent maximum amount and have maximum income.\n",
    "- Where customers belong to cluster 2 total expenses, lower Income and does minimum purchases compared to other three clusters.\n",
    "- Customers belongs to cluster 0 and 3 does average purchases, has average income."
   ]
  },
  {
   "cell_type": "markdown",
   "id": "36afd95b",
   "metadata": {
    "id": "36afd95b"
   },
   "source": [
    "-----\n",
    "## Happy Learning\n",
    "-----"
   ]
  }
 ],
 "metadata": {
  "colab": {
   "collapsed_sections": [
    "36afd95b"
   ],
   "name": "Unsupervised Learning - Lab session.ipynb",
   "provenance": []
  },
  "kernelspec": {
   "display_name": "Python 3 (ipykernel)",
   "language": "python",
   "name": "python3"
  },
  "language_info": {
   "codemirror_mode": {
    "name": "ipython",
    "version": 3
   },
   "file_extension": ".py",
   "mimetype": "text/x-python",
   "name": "python",
   "nbconvert_exporter": "python",
   "pygments_lexer": "ipython3",
   "version": "3.9.13"
  }
 },
 "nbformat": 4,
 "nbformat_minor": 5
}
